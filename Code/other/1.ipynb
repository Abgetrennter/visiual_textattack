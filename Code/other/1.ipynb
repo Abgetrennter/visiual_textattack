{
 "cells": [
  {
   "cell_type": "code",
   "execution_count": 1,
   "metadata": {
    "collapsed": true
   },
   "outputs": [],
   "source": [
    "from PIL import ImageFont, Image, ImageDraw\n",
    "from fontTools.ttLib.ttFont import TTFont\n",
    "import numpy as np\n"
   ]
  },
  {
   "cell_type": "code",
   "execution_count": 31,
   "outputs": [],
   "source": [
    "font = \"data/fonts/simkai.ttf\"\n",
    "img_size = 64\n",
    "f = ImageFont.truetype(font, img_size, layout_engine=ImageFont.Layout.BASIC)\n",
    "s = []"
   ],
   "metadata": {
    "collapsed": false
   }
  },
  {
   "cell_type": "code",
   "execution_count": 1,
   "outputs": [],
   "source": [
    "from OpenAttack.data_manager import DataManager\n",
    "a,b,c=DataManager.load(\"AttackAssist.FYH\")"
   ],
   "metadata": {
    "collapsed": false
   }
  },
  {
   "cell_type": "code",
   "execution_count": 2,
   "outputs": [],
   "source": [
    "d=DataManager.load(\"AttackAssist.SIM\")"
   ],
   "metadata": {
    "collapsed": false
   }
  },
  {
   "cell_type": "code",
   "execution_count": 4,
   "outputs": [
    {
     "data": {
      "text/plain": "('兪', ['俞'])"
     },
     "execution_count": 4,
     "metadata": {},
     "output_type": "execute_result"
    }
   ],
   "source": [
    "next(iter(d.items()))"
   ],
   "metadata": {
    "collapsed": false
   }
  },
  {
   "cell_type": "code",
   "execution_count": 6,
   "outputs": [],
   "source": [
    "_=\"q\"\n",
    "with open(f\"{_}.txt\",\"w\",encoding=\"utf8\") as f:\n",
    "    for index,chara in enumerate(d):\n",
    "        if index%20==19:\n",
    "            f.write(\"\\n\")\n",
    "        f.write(chara+\"->\"+\" \".join(d[chara])+\"\\t\")"
   ],
   "metadata": {
    "collapsed": false
   }
  },
  {
   "cell_type": "code",
   "execution_count": 30,
   "outputs": [
    {
     "data": {
      "text/plain": "(<ImagingCore at 0x23f472c1430>, (0, 16))"
     },
     "execution_count": 30,
     "metadata": {},
     "output_type": "execute_result"
    }
   ],
   "source": [
    "f.getmask2('二')"
   ],
   "metadata": {
    "collapsed": false
   }
  },
  {
   "cell_type": "code",
   "execution_count": 32,
   "outputs": [],
   "source": [
    "for i in TTFont(font).getBestCmap():\n",
    "    s.append((i, np.array(f.getmask(chr(i)))))"
   ],
   "metadata": {
    "collapsed": false
   }
  },
  {
   "cell_type": "code",
   "execution_count": 23,
   "outputs": [],
   "source": [
    "qq = {i: [] for i in set(i.shape for _, i in s)}\n",
    "for i, j in s:\n",
    "    qq[j.shape].append(chr(i))"
   ],
   "metadata": {
    "collapsed": false
   }
  },
  {
   "cell_type": "code",
   "execution_count": 33,
   "outputs": [
    {
     "data": {
      "text/plain": "[['\"', '0', '2', '3'],\n ['ɑ'],\n ['+', 'y'],\n ['^', '`', 'j'],\n ['_'],\n ['#',\n  '5',\n  '7',\n  'B',\n  'D',\n  'E',\n  'F',\n  'H',\n  'I',\n  'J',\n  'K',\n  'L',\n  'M',\n  'N',\n  'P',\n  'R',\n  'T',\n  'U',\n  'V',\n  'W',\n  'X',\n  'Y',\n  'Z',\n  'b',\n  'd',\n  'h',\n  'i',\n  'k',\n  'l',\n  'ê'],\n ['u', 'v', 'w', 'x', 'z'],\n ['.'],\n [';'],\n ['[', ']', '{', '}'],\n ['á', 'ì', 'í', 'ò', 'ó', 'ù', 'ú', 'ń', 'ǹ'],\n ['$', '(', ')'],\n ['Q'],\n ['t', 'ē', 'ī', 'ō'],\n ['\\\\', '－'],\n ['g', 'p', 'q', 'ü', 'ā', 'ū', '︵', '︹'],\n ['ˇ',\n  'ˊ',\n  'ˋ',\n  'Ц',\n  '№',\n  '∏',\n  '∑',\n  '√',\n  '≤',\n  '≦',\n  '≧',\n  '⒈',\n  '⒉',\n  '⒋',\n  '⒌',\n  '⒍',\n  '⒎',\n  '⒏',\n  '⒒',\n  '⒕',\n  '⒖',\n  '⒗',\n  '⒘',\n  '⒙',\n  '⺌',\n  '⺳',\n  '⿻',\n  'ぬ',\n  'ひ',\n  'べ',\n  'ほ',\n  'り',\n  '゜',\n  'イ',\n  'ウ',\n  'オ',\n  'ト',\n  'ド',\n  'バ',\n  'ヤ',\n  'ヾ',\n  'ㄊ',\n  'ㄐ',\n  'ㄠ',\n  'ㄣ',\n  'ㄤ',\n  'ㄨ',\n  '口',\n  '﹀',\n  '＋',\n  'Ｑ',\n  '￢'],\n ['α', 'а', 'д', 'е', 'з', 'о', 'с', 'э', 'ю', '╓', '╖', '╥', '╭', '╮', '︽'],\n ['ρ', 'у', 'ё', 'つ', 'へ', 'ス', 'ヱ', '﹗', '﹡'],\n ['‖', '∣', '①', '②', '③', '④', '⑤', '⑥', '⑦', '⑧', '⑨', '⑩'],\n ['└',\n  '┕',\n  '┖',\n  '┗',\n  '┘',\n  '┙',\n  '┚',\n  '┛',\n  '┴',\n  '┵',\n  '┶',\n  '┷',\n  '┸',\n  '┹',\n  '┺',\n  '┻',\n  '╘',\n  '╙',\n  '╚',\n  '╛',\n  '╜',\n  '╝',\n  '╧',\n  '╨',\n  '╩',\n  '╯',\n  '╰',\n  '★',\n  '☆',\n  '㈱',\n  '㐀',\n  '㐓',\n  '㐙',\n  '㒭',\n  '㔻',\n  '㕛',\n  '㕦',\n  '㖨',\n  '㖷',\n  '㖿',\n  '㘢',\n  '㙄',\n  '㜿',\n  '㞬',\n  '㞼',\n  '㡭',\n  '㣂',\n  '㤅',\n  '㥑',\n  '㪽',\n  '㫘',\n  '㱚',\n  '㲸',\n  '㳂',\n  '㳑',\n  '㳗',\n  '㴓',\n  '㶡',\n  '㶣',\n  '㶨',\n  '㷖',\n  '㸦',\n  '㺭',\n  '㺰',\n  '㺺',\n  '㼢',\n  '㼲',\n  '䀑',\n  '䀠',\n  '䁊',\n  '䁗',\n  '䁰',\n  '䁼',\n  '䃉',\n  '䃘',\n  '䇃',\n  '䎄',\n  '䎌',\n  '䎑',\n  '䏉',\n  '䏎',\n  '䏏',\n  '䏔',\n  '䏘',\n  '䏡',\n  '䏪',\n  '䏰',\n  '䏱',\n  '䐁',\n  '䐂',\n  '䐃',\n  '䐊',\n  '䐎',\n  '䐖',\n  '䐞',\n  '䐯',\n  '䑒',\n  '䜸',\n  '䝈',\n  '䝌',\n  '䝻',\n  '䟝',\n  '䟤',\n  '䟳',\n  '䟴',\n  '䠅',\n  '䠐',\n  '䠧',\n  '䠪',\n  '䠫',\n  '䢆',\n  '䢊',\n  '䢋',\n  '䢐',\n  '䢙',\n  '䢚',\n  '䢛',\n  '䢞',\n  '䢤',\n  '䢳',\n  '䢵',\n  '䢸',\n  '䢹',\n  '䢻',\n  '䣁',\n  '䣆',\n  '䣑',\n  '䣕',\n  '䣝',\n  '䣞',\n  '䣺',\n  '䤎',\n  '䤐',\n  '䤖',\n  '䦻',\n  '䧉',\n  '䧋',\n  '䧢',\n  '䧣',\n  '䪱',\n  '䪲',\n  '䪳',\n  '䪵',\n  '䪶',\n  '䪸',\n  '䪹',\n  '䪽',\n  '䫀',\n  '䫃',\n  '䫊',\n  '䫎',\n  '䫬',\n  '䫱',\n  '䫷',\n  '䫽',\n  '䬆',\n  '䬕',\n  '䬟',\n  '䭸',\n  '䭼',\n  '䮆',\n  '䮏',\n  '䮖',\n  '䮣',\n  '䮱',\n  '䯀',\n  '䯆',\n  '䯈',\n  '䯞',\n  '䰛',\n  '䰜',\n  '䱉',\n  '䵟',\n  '䵮',\n  '䵴',\n  '不',\n  '丏',\n  '世',\n  '丘',\n  '丙',\n  '丛',\n  '丠',\n  '两',\n  '丫',\n  '主',\n  '乁',\n  '乚',\n  '乜',\n  '乣',\n  '买',\n  '于',\n  '亏',\n  '些',\n  '亼',\n  '仄',\n  '兕',\n  '兦',\n  '八',\n  '兰',\n  '冈',\n  '冏',\n  '冞',\n  '冠',\n  '凕',\n  '几',\n  '凡',\n  '凤',\n  '凸',\n  '北',\n  '匚',\n  '匝',\n  '匞',\n  '匟',\n  '匡',\n  '匦',\n  '匧',\n  '匨',\n  '匩',\n  '匪',\n  '匭',\n  '匯',\n  '匽',\n  '匾',\n  '匿',\n  '區',\n  '厂',\n  '厅',\n  '厌',\n  '叉',\n  '双',\n  '叨',\n  '只',\n  '召',\n  '叭',\n  '叮',\n  '叱',\n  '叵',\n  '叹',\n  '叼',\n  '吓',\n  '吔',\n  '吕',\n  '吗',\n  '君',\n  '吴',\n  '呍',\n  '呖',\n  '呢',\n  '呭',\n  '咽',\n  '咾',\n  '哇',\n  '哭',\n  '唑',\n  '啊',\n  '喦',\n  '喳',\n  '嗢',\n  '嗯',\n  '嘔',\n  '噁',\n  '嚜',\n  '圧',\n  '圮',\n  '圼',\n  '址',\n  '坐',\n  '坔',\n  '坵',\n  '垂',\n  '垃',\n  '垔',\n  '垣',\n  '垦',\n  '壂',\n  '壓',\n  '孑',\n  '孓',\n  '孲',\n  '尸',\n  '屋',\n  '岖',\n  '峘',\n  '巧',\n  '巩',\n  '巶',\n  '巸',\n  '巼',\n  '平',\n  '弬',\n  '忍',\n  '忑',\n  '忢',\n  '怂',\n  '恧',\n  '恳',\n  '悪',\n  '惖',\n  '愳',\n  '愿',\n  '无',\n  '既',\n  '旴',\n  '旽',\n  '昛',\n  '昭',\n  '昷',\n  '昼',\n  '晅',\n  '晉',\n  '暟',\n  '曌',\n  '曱',\n  '更',\n  '月',\n  '朑',\n  '杘',\n  '杢',\n  '桑',\n  '棸',\n  '歹',\n  '殁',\n  '殟',\n  '殣',\n  '比',\n  '毡',\n  '氁',\n  '民',\n  '氶',\n  '汞',\n  '玔',\n  '玕',\n  '玛',\n  '玡',\n  '环',\n  '珄',\n  '珰',\n  '珲',\n  '珿',\n  '瑆',\n  '瑘',\n  '瑟',\n  '瑪',\n  '瑾',\n  '環',\n  '瓂',\n  '瓧',\n  '瓩',\n  '瓯',\n  '瓱',\n  '瓳',\n  '瓸',\n  '瓹',\n  '瓺',\n  '瓼',\n  '甅',\n  '生',\n  '用',\n  '画',\n  '疋',\n  '百',\n  '盈',\n  '目',\n  '盯',\n  '直',\n  '眰',\n  '砡',\n  '砸',\n  '礧',\n  '示',\n  '红',\n  '经',\n  '罣',\n  '罪',\n  '耳',\n  '肌',\n  '肛',\n  '肥',\n  '胫',\n  '胴',\n  '胵',\n  '胹',\n  '脵',\n  '脶',\n  '腝',\n  '腪',\n  '腲',\n  '腷',\n  '腸',\n  '腽',\n  '膕',\n  '臑',\n  '艮',\n  '艺',\n  '芏',\n  '苎',\n  '虱',\n  '虽',\n  '见',\n  '距',\n  '运',\n  '酉',\n  '阻',\n  '际',\n  '陌',\n  '隔',\n  '雨',\n  '雹',\n  '顷',\n  '颈',\n  '颗',\n  '飔',\n  '馴',\n  '马',\n  '驯',\n  '驱',\n  '骎',\n  '骬',\n  '﨤',\n  '﹊',\n  '﹋',\n  '﹌',\n  '￣'],\n ['﹍'],\n ['%',\n  '&',\n  \"'\",\n  '*',\n  '1',\n  '4',\n  '6',\n  '8',\n  '9',\n  '?',\n  '@',\n  'A',\n  'C',\n  'G',\n  'O',\n  'S',\n  'f',\n  'ǖ',\n  '︿'],\n [':', 'a', 'c', 'e', 'm', 'n', 'o', 'r', 's'],\n ['×',\n  '÷',\n  '≠',\n  'こ',\n  'ラ',\n  'レ',\n  'ン',\n  'ㄋ',\n  'ㄎ',\n  'ㄏ',\n  'ㄗ',\n  'ㄡ',\n  '乛',\n  '\\ue78d',\n  '︶',\n  '﹫',\n  '＊',\n  '１',\n  '４',\n  '７',\n  '＜',\n  '＞',\n  'Ｂ',\n  'Ｄ',\n  'Ｎ',\n  'ｆ'],\n ['℉',\n  '↓',\n  '∨',\n  '⺮',\n  '〆',\n  '〇',\n  'え',\n  'き',\n  'け',\n  'そ',\n  'ぞ',\n  'ね',\n  'ふ',\n  'ぶ',\n  'ぷ',\n  'ぼ',\n  'み',\n  'む',\n  'わ',\n  '゛',\n  'ギ',\n  'ゲ',\n  'ビ',\n  'ボ',\n  'ㄆ',\n  'ㄑ',\n  '㕵',\n  '㫜',\n  '㺲',\n  '丑',\n  '冮',\n  '凹',\n  '匸',\n  '巳',\n  '彐',\n  '正',\n  '艹'],\n ['╒', '╔', '╕', '╗', '╤', '╦', 'ィ', 'ォ', 'ャ', 'ヶ', 'ヽ'],\n ['▁'],\n ['っ', '㎜', '㎝', 'ｖ', 'ｗ', 'ｘ', 'ｚ'],\n ['°',\n  'Ο',\n  '∩',\n  '⊕',\n  '⑵',\n  '⑶',\n  '⑹',\n  '⑺',\n  '⑻',\n  '⑼',\n  '⑽',\n  '⑾',\n  '⑿',\n  '⒀',\n  '⒁',\n  '⒂',\n  '⒃',\n  '⒄',\n  '⒅',\n  '⒆',\n  '⒇',\n  '▼',\n  '▽',\n  '☉',\n  'せ',\n  'は',\n  'ぺ',\n  'ゞ',\n  'セ',\n  'チ',\n  'ヂ',\n  'ホ',\n  'ミ',\n  'ㄓ',\n  'ㄜ',\n  'ㄝ',\n  '丆',\n  '乊',\n  '\\ue795',\n  '﹂',\n  '％',\n  '？'],\n ['ε',\n  'ο',\n  'σ',\n  'ω',\n  'в',\n  'г',\n  'и',\n  'к',\n  'л',\n  'м',\n  'н',\n  'п',\n  'т',\n  'х',\n  'ч',\n  'ш',\n  'ъ',\n  'ы',\n  'ь',\n  'я',\n  '⺋',\n  'ぃ',\n  'ａ',\n  'ｍ'],\n ['ζ',\n  'Й',\n  '℅',\n  '⺄',\n  '「',\n  '『',\n  '【',\n  '】',\n  '〖',\n  '〗',\n  '〤',\n  'ぎ',\n  'く',\n  'ぐ',\n  'ぱ',\n  'ぴ',\n  'グ',\n  'ゾ',\n  'ダ',\n  'ヅ',\n  'ブ',\n  'プ',\n  '㒫',\n  '㒬',\n  '㒳',\n  '㔿',\n  '㕚',\n  '㕨',\n  '㕺',\n  '㖤',\n  '㗁',\n  '㗏',\n  '㗚',\n  '㘴',\n  '㞢',\n  '㠭',\n  '㫫',\n  '㱐',\n  '㱙',\n  '㱛',\n  '㺮',\n  '㺼',\n  '㼗',\n  '䀃',\n  '䀈',\n  '䀔',\n  '䀘',\n  '䁥',\n  '䂖',\n  '䂘',\n  '䂛',\n  '䃏',\n  '䃨',\n  '䇈',\n  '䍏',\n  '䍾',\n  '䎎',\n  '䎳',\n  '䎻',\n  '䏃',\n  '䏓',\n  '䏤',\n  '䜳',\n  '䞎',\n  '䞏',\n  '䟕',\n  '䟚',\n  '䟥',\n  '䟶',\n  '䠃',\n  '䠎',\n  '䣖',\n  '䤚',\n  '䥚',\n  '䧃',\n  '䧈',\n  '䧓',\n  '䩃',\n  '䫸',\n  '䫹',\n  '䫻',\n  '䫿',\n  '䬑',\n  '䬚',\n  '䬛',\n  '䭵',\n  '䭶',\n  '䯊',\n  '䯠',\n  '䵣',\n  '䵪',\n  '䵲',\n  '丁',\n  '七',\n  '上',\n  '丒',\n  '丗',\n  '业',\n  '丞',\n  '両',\n  '习',\n  '乬',\n  '亍',\n  '亓',\n  '亜',\n  '亡',\n  '元',\n  '円',\n  '写',\n  '冱',\n  '凶',\n  '刃',\n  '匜',\n  '匤',\n  '匴',\n  '卺',\n  '厄',\n  '又',\n  '及',\n  '可',\n  '叿',\n  '吐',\n  '否',\n  '呕',\n  '咂',\n  '咒',\n  '咓',\n  '咥',\n  '咺',\n  '哂',\n  '哐',\n  '哣',\n  '唈',\n  '唖',\n  '啞',\n  '喱',\n  '嗵',\n  '噩',\n  '坥',\n  '垩',\n  '壨',\n  '壬',\n  '子',\n  '孟',\n  '巠',\n  '己',\n  '干',\n  '弖',\n  '彑',\n  '忈',\n  '思',\n  '恐',\n  '恶',\n  '显',\n  '死',\n  '殛',\n  '毋',\n  '洲',\n  '灭',\n  '玑',\n  '玨',\n  '玴',\n  '珂',\n  '珪',\n  '理',\n  '琶',\n  '甌',\n  '田',\n  '睲',\n  '石',\n  '矼',\n  '砠',\n  '罕',\n  '罢',\n  '翌',\n  '而',\n  '胆',\n  '臸',\n  '芒',\n  '西',\n  '豇',\n  '逐',\n  '量',\n  '面',\n  '韭',\n  '黽',\n  '（',\n  '）',\n  '￤'],\n ['μ', '∶', 'ぅ', 'ゝ', 'エ', 'コ', 'ユ', 'ロ', '︰', '﹨', 'ｐ', 'ｑ', 'ｔ'],\n ['‐', '–', '—', '―', '─', '┄', '┈', 'ュ'],\n ['㊣',\n  '㙀',\n  '㿯',\n  '令',\n  '儀',\n  '儐',\n  '氦',\n  '氧',\n  '痓',\n  '瘮',\n  '祶',\n  '笴',\n  '蒿',\n  '蛦',\n  '螚',\n  '蟹',\n  '袘',\n  '褑',\n  '襆',\n  '謦',\n  '謮',\n  '貳',\n  '軐',\n  '鐡',\n  '鬢',\n  '黂'],\n [' ', '\\u3000'],\n ['±',\n  '≮',\n  '≯',\n  '〦',\n  '〧',\n  '〨',\n  'が',\n  'さ',\n  'だ',\n  'ま',\n  'め',\n  'や',\n  'よ',\n  'れ',\n  'ん',\n  'ジ',\n  'ゼ',\n  'タ',\n  '㕶',\n  '㺽',\n  '䒑',\n  '互',\n  '凵',\n  '毌',\n  '王',\n  '皿',\n  '覀',\n  '\\ue793',\n  '\\ue81e',\n  '＾',\n  '｀',\n  '￡'],\n ['à', 'è', 'é', 'ě', 'ň', 'ǎ', 'ǐ', 'ǒ', 'ǔ', '\\ue7c7'],\n ['←',\n  '→',\n  '∟',\n  '∠',\n  '∷',\n  '⊥',\n  '⊿',\n  'ア',\n  'ツ',\n  'ノ',\n  'ヲ',\n  'ㄖ',\n  'ㄛ',\n  '\\ue78e',\n  '﹟',\n  '﹪',\n  'Ａ',\n  'Ｅ',\n  'Ｆ',\n  'Ｈ',\n  'Ｉ',\n  'Ｋ',\n  'Ｌ',\n  'Ｍ',\n  'Ｐ',\n  'Ｒ',\n  'Ｔ',\n  'Ｖ',\n  'Ｗ',\n  'Ｘ',\n  'Ｙ',\n  'Ｚ',\n  'ｈ',\n  'ｉ',\n  'ｋ',\n  'ｌ'],\n ['∝', '∞', '┍', '┏', '┑', '┓', '┭', '┮', '┯', '┱', '┲', '┳', 'ゥ', '﹔', '﹕'],\n ['/', 'ǘ', 'ǚ', 'ǜ', 'ェ', '︷', '﹦', '：'],\n ['|', 'ι', 'κ', 'ν', 'π', 'τ', 'υ', 'ァ', 'ッ', '＝', 'ｅ', 'ｏ', 'ｓ'],\n ['¨',\n  'λ',\n  'Д',\n  'Ж',\n  'Э',\n  '€',\n  '∥',\n  '⑴',\n  '⑷',\n  '⑸',\n  'て',\n  'で',\n  'サ',\n  'シ',\n  'ヒ',\n  'ペ',\n  'ム',\n  'メ',\n  'リ',\n  'ㄙ',\n  'ㄟ',\n  '\\ue78f',\n  '﹝',\n  '﹞',\n  '０',\n  '６',\n  '８',\n  'ｂ'],\n ['β',\n  'ξ',\n  'Ё',\n  '▇',\n  '▔',\n  '〒',\n  'う',\n  'び',\n  'ゑ',\n  'ヴ',\n  '㎏',\n  '㏒',\n  '㐅',\n  '㐉',\n  '㓛',\n  '㕴',\n  '㖇',\n  '㖏',\n  '㖘',\n  '㖶',\n  '㢠',\n  '㤪',\n  '㫐',\n  '㫔',\n  '㬈',\n  '㱏',\n  '㿻',\n  '㿼',\n  '䀎',\n  '䁅',\n  '䂡',\n  '䃁',\n  '䎲',\n  '䎸',\n  '䟬',\n  '䠆',\n  '䠇',\n  '䣳',\n  '䣵',\n  '䦺',\n  '丄',\n  '万',\n  '丽',\n  '乀',\n  '乭',\n  '亘',\n  '亟',\n  '亽',\n  '亾',\n  '兀',\n  '兄',\n  '冚',\n  '冟',\n  '凐',\n  '匛',\n  '吜',\n  '呈',\n  '呾',\n  '品',\n  '哑',\n  '哩',\n  '喅',\n  '四',\n  '土',\n  '圡',\n  '埋',\n  '廽',\n  '止',\n  '殂',\n  '玒',\n  '玘',\n  '瑥',\n  '眶',\n  '置',\n  '臣',\n  '臤',\n  '臼',\n  '血',\n  '豆',\n  '邑',\n  '里',\n  '飞',\n  '馬',\n  '／',\n  'ｊ'],\n ['≡', 'ゅ', 'ハ', 'ヘ', '㎎', '丷', '﹄', 'ｙ'],\n [','],\n ['·', '‥', '…', '═', 'ョ', '㏄', '\\ue794', '﹐', '﹒'],\n ['℡',\n  '⒑',\n  '⒛',\n  '▲',\n  '△',\n  '⿰',\n  '⿱',\n  '⿲',\n  '⿳',\n  '⿴',\n  '⿵',\n  '⿶',\n  '⿷',\n  '⿸',\n  '⿹',\n  '⿺',\n  '〓',\n  '〾',\n  'お',\n  'し',\n  'じ',\n  'と',\n  'ぽ',\n  'を',\n  'キ',\n  'ピ',\n  'ヰ',\n  'ㄍ',\n  '㓁',\n  '乙',\n  '工',\n  '曰',\n  '癶',\n  '罒',\n  '\\ue818',\n  '\\ue82c'],\n ['ⅰ',\n  'ⅱ',\n  'ⅲ',\n  'ⅳ',\n  'ⅵ',\n  'ⅶ',\n  'ⅷ',\n  'ⅸ',\n  '↖',\n  '↗',\n  '↘',\n  '↙',\n  'ソ',\n  'ヌ',\n  'フ',\n  'ヨ',\n  '二',\n  '﹖',\n  '﹠'],\n ['∽', '〃', '；'],\n ['│',\n  '┃',\n  '┆',\n  '┇',\n  '┊',\n  '┋',\n  '├',\n  '┝',\n  '┞',\n  '┟',\n  '┠',\n  '┡',\n  '┢',\n  '┣',\n  '┤',\n  '┥',\n  '┦',\n  '┧',\n  '┨',\n  '┩',\n  '┪',\n  '┫',\n  '┼',\n  '┽',\n  '┾',\n  '┿',\n  '╀',\n  '╁',\n  '╂',\n  '╃',\n  '╄',\n  '╅',\n  '╆',\n  '╇',\n  '╈',\n  '╉',\n  '╊',\n  '╋',\n  '║',\n  '╞',\n  '╟',\n  '╠',\n  '╡',\n  '╢',\n  '╣',\n  '╪',\n  '╫',\n  '╬',\n  '╱',\n  '╲',\n  '╳',\n  '◢',\n  '◣',\n  '◤',\n  '◥',\n  '︴'],\n ['灬'],\n ['!', '﹃', '﹣'],\n ['=', '。'],\n ['¤',\n  'ф',\n  '‰',\n  '℃',\n  '∧',\n  '■',\n  '□',\n  '♀',\n  '♂',\n  '⺶',\n  'ご',\n  'す',\n  'ぢ',\n  'ば',\n  'ゴ',\n  'デ',\n  'ポ',\n  '㓅',\n  '㤁',\n  '㺨',\n  '㿿',\n  '䟓',\n  '䟧',\n  '䣯',\n  '䣿',\n  '䤄',\n  '䦉',\n  '下',\n  '丌',\n  '且',\n  '云',\n  '亖',\n  '亙',\n  '亞',\n  '冗',\n  '冝',\n  '刀',\n  '刁',\n  '吧',\n  '呸',\n  '咀',\n  '囘',\n  '回',\n  '圣',\n  '宀',\n  '巨',\n  '巫',\n  '已',\n  '旧',\n  '旺',\n  '歪',\n  '爫',\n  '玊',\n  '珇',\n  '瓦',\n  '眐',\n  '耂',\n  '臦',\n  '\\ue831',\n  '\\ue864',\n  '＄'],\n ['ˉ',\n  'Α',\n  'Β',\n  'Γ',\n  'Δ',\n  'Ε',\n  'Ζ',\n  'Η',\n  'Θ',\n  'Ι',\n  'Κ',\n  'Λ',\n  'Μ',\n  'Ν',\n  'Ξ',\n  'Π',\n  'Ρ',\n  'Σ',\n  'Τ',\n  'Υ',\n  'Φ',\n  'Χ',\n  'Ψ',\n  'Ω',\n  'δ',\n  'θ',\n  'З',\n  'О',\n  'С',\n  'Ю',\n  'б',\n  'Ⅰ',\n  'Ⅱ',\n  'Ⅲ',\n  'Ⅳ',\n  'Ⅴ',\n  'Ⅵ',\n  'Ⅶ',\n  'Ⅷ',\n  'Ⅸ',\n  'Ⅹ',\n  'Ⅺ',\n  'Ⅻ',\n  '∪',\n  '▆',\n  '々',\n  'い',\n  'に',\n  'の',\n  'カ',\n  'ナ',\n  'ベ',\n  'ル',\n  'ㄢ',\n  'ㄥ',\n  'ㄦ',\n  '㎞',\n  '㏎',\n  '㏑',\n  '㏕',\n  '亠',\n  '\\ue790',\n  '\\ue791',\n  '︺',\n  '︾',\n  '﹙',\n  '﹚',\n  '！',\n  '＂',\n  '＇',\n  '３',\n  '５',\n  'Ｇ',\n  'Ｏ',\n  'Ｓ'],\n ['ⅴ', 'ⅹ', '▄', 'ヮ', '﹑', 'ｃ'],\n ['▅', 'ぁ', 'ゃ', 'ょ', 'ゎ', 'ㄇ', 'ㄒ', 'ㄩ', '丶', '﹤'],\n ['-'],\n ['~', '˙', '━', '┅', '┉', 'ー', '一'],\n ['ɡ', '、', '﹁', '，'],\n ['γ', 'η', 'χ', 'й', 'р', '∈', '∴', '∵', '≌', 'ワ', '﹢'],\n ['φ',\n  'ψ',\n  'Щ',\n  '′',\n  '≥',\n  '⒊',\n  '⒐',\n  '⒓',\n  '⒔',\n  '⒚',\n  '⺪',\n  'か',\n  'た',\n  'ち',\n  'ら',\n  'ろ',\n  'ケ',\n  'パ',\n  'ㄅ',\n  'ㄉ',\n  'ㄌ',\n  'ㄔ',\n  'ㄘ',\n  'ㄚ',\n  '㠪',\n  '三',\n  '五',\n  '冖',\n  '罓',\n  '\\ue792'],\n ['ж', 'ц', 'щ', '┌', '┎', '┐', '┒', '┬', '┰', 'ヵ'],\n ['﹎'],\n ['<', '>', '▃', '︻'],\n ['§',\n  '‘',\n  '’',\n  '“',\n  '”',\n  '″',\n  '‵',\n  '※',\n  '↑',\n  '⊙',\n  '⺈',\n  '⺧',\n  '⺷',\n  '⺻',\n  '⻊',\n  '〝',\n  '〞',\n  'あ',\n  'ぜ',\n  'づ',\n  'ど',\n  'な',\n  'も',\n  'ゆ',\n  'る',\n  'ゐ',\n  'ガ',\n  'ク',\n  'ザ',\n  'ズ',\n  'ネ',\n  '㔾',\n  '㝉',\n  '㺿',\n  '䀴',\n  '䃌',\n  '䣰',\n  '丕',\n  '乪',\n  '亚',\n  '匹',\n  '卫',\n  '巴',\n  '旦',\n  '玉',\n  '珏',\n  '至',\n  '\\ue796',\n  '\\ue817',\n  '\\ue826',\n  '\\ue82b',\n  '\\ue832',\n  '\\ue843',\n  '\\ue855',\n  '兀',\n  '﹉',\n  '＆',\n  '＠'],\n ['А',\n  'Б',\n  'В',\n  'Г',\n  'Е',\n  'И',\n  'К',\n  'Л',\n  'М',\n  'Н',\n  'П',\n  'Р',\n  'Т',\n  'У',\n  'Ф',\n  'Х',\n  'Ч',\n  'Ш',\n  'Ъ',\n  'Ы',\n  'Ь',\n  'Я',\n  '≒',\n  '⌒',\n  'テ',\n  'モ',\n  'ㄕ',\n  'ㄞ',\n  'ㄧ',\n  '︼',\n  '﹛',\n  '﹜',\n  '﹩',\n  '＃',\n  '２',\n  '９',\n  'Ｃ',\n  'Ｊ',\n  'Ｕ',\n  'ｄ',\n  'ｇ',\n  '￥'],\n ['≈', 'ぇ', 'ぉ', 'ニ', 'マ', 'ㄈ', '㎡', '︸', '﹥'],\n ['▂'],\n ['⺗', 'ｎ', 'ｒ', 'ｕ', '～'],\n ['﹏', '．', '＿'],\n ['匑']]"
     },
     "execution_count": 33,
     "metadata": {},
     "output_type": "execute_result"
    }
   ],
   "source": [
    "[qq[i] for i in qq.keys() if len(qq[i]) < 500]"
   ],
   "metadata": {
    "collapsed": false
   }
  },
  {
   "cell_type": "code",
   "execution_count": 2,
   "outputs": [],
   "source": [
    "from hanzi_chaizi import HanziChaizi\n",
    "\n",
    "hc = HanziChaizi()"
   ],
   "metadata": {
    "collapsed": false
   }
  },
  {
   "cell_type": "code",
   "execution_count": 11,
   "outputs": [],
   "source": [
    "# a = set()\n",
    "\n",
    "with open(\"replace.txt\", \"r\", encoding='utf-8') as f:\n",
    "    _dict = {}\n",
    "    for line in f:\n",
    "        q, p = line.split()\n",
    "        _dict[q] = p\n",
    "        # a.add(q)\n",
    "        # if p in a:\n",
    "        #     print(f\"{p}->{q}\")\n",
    "a=set(_dict)\n",
    "replace=set(\"丨丿一丶㇉\")"
   ],
   "metadata": {
    "collapsed": false
   }
  },
  {
   "cell_type": "code",
   "execution_count": 5,
   "outputs": [
    {
     "data": {
      "text/plain": "<HanziStructure.独体: 0>"
     },
     "execution_count": 5,
     "metadata": {},
     "output_type": "execute_result"
    }
   ],
   "source": [
    "\n",
    "from enum import IntEnum,auto\n",
    "class HanziStructure(IntEnum):\n",
    "    \"\"\"\n",
    "    汉字结构枚举，用于描述汉字的结构\n",
    "    \"\"\"\n",
    "    独体=0\n",
    "    左右=auto()\n",
    "    上下=auto()\n",
    "    左中右=auto()\n",
    "    上中下=auto()\n",
    "    右上包围=auto()\n",
    "    左上包围=auto()\n",
    "    左下包围=auto()\n",
    "    上三包围=auto()\n",
    "    下三包围=auto()\n",
    "    左三包围=auto()\n",
    "    全包围=auto()\n",
    "    镶嵌=auto()\n",
    "    品字=auto()\n",
    "\n",
    "HanziStructure(0)"
   ],
   "metadata": {
    "collapsed": false
   }
  },
  {
   "cell_type": "code",
   "execution_count": 14,
   "outputs": [],
   "source": [
    "import pickle\n",
    "with open(\"../../Data/chinese-word-structure/结构字典（20000字）.txt\",\"r\",encoding=\"utf8\") as f:\n",
    "    stru=eval(f.read())\n",
    "stru={key:int(value) for key,value in stru.items()}\n",
    "pickle.dump(stru,open(\"../../Data/MyHanziData/HanziStructure.pkl\",\"wb\"))"
   ],
   "metadata": {
    "collapsed": false
   }
  },
  {
   "cell_type": "code",
   "execution_count": 20,
   "outputs": [],
   "source": [
    "from collections import Counter\n",
    "qwer=Counter(stru.values())"
   ],
   "metadata": {
    "collapsed": false
   }
  },
  {
   "cell_type": "code",
   "execution_count": 6,
   "outputs": [
    {
     "name": "stdout",
     "output_type": "stream",
     "text": [
      "冰\t冰 水\t冫 水\n",
      "\n",
      "掷\t手 掷 郑\t扌 郑\n",
      "\n",
      "病\t病 丙\t疒 丙\n",
      "\n",
      "丝\t丝 丝\t纟 纟\n",
      "\n",
      "草\t草 早\t艸 早\t艹 早\n",
      "\n",
      "虎\t虎 儿\t虍 儿\n",
      "\n"
     ]
    }
   ],
   "source": [
    "with open(\"../../Data/chinese-word-structure/chinese_word_structure_14k.tsv\", \"r\", encoding=\"utf8\") as f:\n",
    "    for line in f:\n",
    "        s = line.strip().split()\n",
    "        if s[0] in \"\".join(s[1:]):\n",
    "            print(line)\n"
   ],
   "metadata": {
    "collapsed": false
   }
  },
  {
   "cell_type": "code",
   "execution_count": 7,
   "outputs": [],
   "source": [
    "data = {}\n",
    "# a={\"才\":\"扌\"}\n",
    "import pickle\n",
    "with open(\"../../Data/chinese-word-structure/chinese_word_structure_14k.tsv\", \"r\", encoding=\"utf8\") as f:\n",
    "    for line in f:\n",
    "        key, *items = line.strip().split('\\t')\n",
    "        s = items[-1].strip().split()  # 选择第一个然后做一些改动\n",
    "        for index,c in enumerate(s[:]):\n",
    "            if c == \"才\":\n",
    "                s[index]=\"扌\"\n",
    "        # if len(s) > 3:\n",
    "        #     continue\n",
    "        # s-=replace\n",
    "        # qqq=a&s\n",
    "        # s-=qqq\n",
    "        # print(a,s,qqq)\n",
    "        # s.update(_dict[_] for _ in qqq)\n",
    "        # # if t:=a.intersection(s):\n",
    "        #     for i in t:\n",
    "        #         s[s.index(i)]=_dict[i]\n",
    "            # temp1=sorted([i.strip().split() for i in items],key=len)\n",
    "            # 有序所以不用排序\n",
    "            # temp1=[i for i in temp1 if len(i)==i[0]]\n",
    "\n",
    "        data[key.strip()] = tuple(s)"
   ],
   "metadata": {
    "collapsed": false
   }
  },
  {
   "cell_type": "code",
   "execution_count": 8,
   "outputs": [],
   "source": [
    "with open(\"../../Data/MyHanziData/HanziSplit.pkl\",\"wb\") as f:\n",
    "    pickle.dump(data,f)"
   ],
   "metadata": {
    "collapsed": false
   }
  },
  {
   "cell_type": "code",
   "execution_count": 17,
   "outputs": [],
   "source": [
    "with open(\"data/MyHanziData/HanziSplit.txt\",\"w\",encoding=\"utf8\") as f:\n",
    "    for chara,sps in data.items():\n",
    "        f.write(f\"{chara}->{' '.join(sps)}\\n\")"
   ],
   "metadata": {
    "collapsed": false
   }
  },
  {
   "cell_type": "code",
   "execution_count": 35,
   "outputs": [
    {
     "data": {
      "text/plain": "[('一',\n  ['丁',\n   '丂',\n   '丄',\n   '丅',\n   '万',\n   '丈',\n   '三',\n   '三',\n   '三',\n   '上',\n   '下',\n   '丌',\n   '不',\n   '丑',\n   '丑',\n   '丒',\n   '且',\n   '丕',\n   '世',\n   '丘',\n   '丙',\n   '丞',\n   '丠',\n   '両',\n   '丹',\n   '乎',\n   '乞',\n   '干',\n   '亊',\n   '事',\n   '二',\n   '二',\n   '亍',\n   '亐',\n   '互',\n   '亓',\n   '亚',\n   '亟',\n   '亠',\n   '亼',\n   '亾',\n   '同',\n   '令',\n   '仺',\n   '佀',\n   '布',\n   '佱',\n   '来',\n   '侯',\n   '侴',\n   '俞',\n   '伤',\n   '佥',\n   '佥',\n   '兀',\n   '兜',\n   '兦',\n   '两',\n   '其',\n   '具',\n   '兼',\n   '冇',\n   '冉',\n   '册',\n   '再',\n   '再',\n   '冡',\n   '凬',\n   '凵',\n   '前',\n   '十',\n   '卄',\n   '卅',\n   '半',\n   '卌',\n   '卝',\n   '卝',\n   '卮',\n   '印',\n   '厷',\n   '叀',\n   '友',\n   '丛',\n   '口',\n   '右',\n   '司',\n   '合',\n   '后',\n   '吏',\n   '呸',\n   '命',\n   '咸',\n   '善',\n   '喜',\n   '单',\n   '嗀',\n   '嘉',\n   '嘼',\n   '噩',\n   '噩',\n   '噩',\n   '嚢',\n   '囊',\n   '囊',\n   '囍',\n   '囍',\n   '囗',\n   '土',\n   '在',\n   '坙',\n   '垖',\n   '壌',\n   '壑',\n   '士',\n   '壴',\n   '夀',\n   '夏',\n   '夒',\n   '夔',\n   '大',\n   '天',\n   '夷',\n   '夹',\n   '奉',\n   '奊',\n   '奡',\n   '女',\n   '妻',\n   '威',\n   '婣',\n   '媺',\n   '嬍',\n   '子',\n   '孒',\n   '存',\n   '宺',\n   '寅',\n   '寕',\n   '寸',\n   '尓',\n   '尢',\n   '尤',\n   '尸',\n   '屰',\n   '峊',\n   '嵗',\n   '嶭',\n   '巠',\n   '工',\n   '工',\n   '左',\n   '巨',\n   '己',\n   '已',\n   '巳',\n   '巵',\n   '巺',\n   '巿',\n   '帀',\n   '希',\n   '币',\n   '年',\n   '广',\n   '廌',\n   '厂',\n   '廾',\n   '廿',\n   '弋',\n   '弌',\n   '弐',\n   '弓',\n   '弖',\n   '弻',\n   '彀',\n   '得',\n   '复',\n   '德',\n   '徾',\n   '应',\n   '愨',\n   '戈',\n   '戌',\n   '戎',\n   '戋',\n   '或',\n   '戛',\n   '戸',\n   '扌',\n   '才',\n   '扥',\n   '拖',\n   '拣',\n   '攵',\n   '敹',\n   '斗',\n   '断',\n   '斺',\n   '施',\n   '斾',\n   '斿',\n   '旂',\n   '旃',\n   '旄',\n   '旅',\n   '旆',\n   '旇',\n   '旊',\n   '旋',\n   '旌',\n   '旍',\n   '旎',\n   '族',\n   '旐',\n   '旒',\n   '旓',\n   '旖',\n   '旗',\n   '旚',\n   '旛',\n   '旜',\n   '旝',\n   '旞',\n   '旦',\n   '旹',\n   '昜',\n   '曰',\n   '更',\n   '曷',\n   '曹',\n   '曺',\n   '月',\n   '月',\n   '有',\n   '木',\n   '朩',\n   '未',\n   '末',\n   '本',\n   '朱',\n   '东',\n   '柂',\n   '栴',\n   '桘',\n   '棏',\n   '业',\n   '榖',\n   '橆',\n   '橆',\n   '橐',\n   '檵',\n   '檵',\n   '櫜',\n   '正',\n   '武',\n   '歹',\n   '死',\n   '殇',\n   '母',\n   '每',\n   '毛',\n   '气',\n   '气',\n   '永',\n   '求',\n   '沲',\n   '渊',\n   '湰',\n   '湽',\n   '灭',\n   '澂',\n   '灰',\n   '炧',\n   '乌',\n   '烕',\n   '焉',\n   '无',\n   '炼',\n   '熏',\n   '爰',\n   '爿',\n   '爿',\n   '牙',\n   '牛',\n   '犮',\n   '狏',\n   '兽',\n   '玈',\n   '玍',\n   '琁',\n   '瑴',\n   '瓜',\n   '甘',\n   '用',\n   '甫',\n   '畐',\n   '画',\n   '疌',\n   '疒',\n   '疟',\n   '发',\n   '百',\n   '皿',\n   '益',\n   '监',\n   '盬',\n   '直',\n   '県',\n   '眞',\n   '睘',\n   '睿',\n   '瞉',\n   '石',\n   '砤',\n   '祣',\n   '秉',\n   '穣',\n   '立',\n   '竵',\n   '竹',\n   '竹',\n   '粚',\n   '糓',\n   '纻',\n   '练',\n   '罒',\n   '罔',\n   '羮',\n   '而',\n   '耒',\n   '耜',\n   '胣',\n   '脜',\n   '临',\n   '至',\n   '臼',\n   '舂',\n   '舃',\n   '与',\n   '与',\n   '舞',\n   '舞',\n   '舞',\n   '舟',\n   '艹',\n   '苢',\n   '苎',\n   '兹',\n   '茶',\n   '葘',\n   '薛',\n   '虍',\n   '虐',\n   '虡',\n   '亏',\n   '虱',\n   '蚩',\n   '蛗',\n   '蜁',\n   '蟗',\n   '蠹',\n   '蠿',\n   '蠿',\n   '卫',\n   '衣',\n   '衰',\n   '衷',\n   '袘',\n   '襄',\n   '襾',\n   '西',\n   '覀',\n   '览',\n   '觞',\n   '言',\n   '讠',\n   '谻',\n   '豆',\n   '豆',\n   '豕',\n   '贮',\n   '贵',\n   '车',\n   '舆',\n   '辥',\n   '辵',\n   '迤',\n   '追',\n   '逰',\n   '遣',\n   '遣',\n   '郻',\n   '酉',\n   '醸',\n   '重',\n   '量',\n   '鍳',\n   '鉴',\n   '镸',\n   '闩',\n   '开',\n   '陁',\n   '隹',\n   '雗',\n   '雨',\n   '霊',\n   '面',\n   '面',\n   '面',\n   '靣',\n   '韭',\n   '页',\n   '饬',\n   '肴',\n   '首',\n   '髙',\n   '髙',\n   '鬲',\n   '鬲',\n   '鬺',\n   '鱼',\n   '鸟',\n   '鹿',\n   '丽',\n   '黄',\n   '龠',\n   '𢰅']),\n ('亅',\n  ['丁',\n   '乎',\n   '了',\n   '予',\n   '亊',\n   '于',\n   '亦',\n   '刂',\n   '寸',\n   '小',\n   '手',\n   '扌',\n   '才',\n   '母',\n   '水',\n   '尔',\n   '牙',\n   '犭',\n   '竹',\n   '豕',\n   '豸',\n   '赤']),\n ('乙',\n  ['丂',\n   '九',\n   '乞',\n   '乩',\n   '乪',\n   '乫',\n   '乭',\n   '乳',\n   '乴',\n   '乶',\n   '乷',\n   '亿',\n   '艺',\n   '冂',\n   '几',\n   '孔',\n   '忆',\n   '戹',\n   '挖',\n   '气',\n   '氹',\n   '礻',\n   '穵',\n   '肊',\n   '衤',\n   '钇',\n   '飞']),\n ('丿',\n  ['七',\n   '丌',\n   '不',\n   '丐',\n   '丢',\n   '丳',\n   '丷',\n   '乂',\n   '乃',\n   '久',\n   '乇',\n   '乍',\n   '乎',\n   '乏',\n   '乑',\n   '乑',\n   '乑',\n   '乒',\n   '九',\n   '乞',\n   '井',\n   '亦',\n   '亷',\n   '人',\n   '介',\n   '布',\n   '系',\n   '伤',\n   '先',\n   '儿',\n   '入',\n   '八',\n   '冇',\n   '冘',\n   '冫',\n   '几',\n   '刀',\n   '制',\n   '剓',\n   '力',\n   '勹',\n   '勿',\n   '勿',\n   '匕',\n   '千',\n   '升',\n   '升',\n   '午',\n   '卑',\n   '卯',\n   '卵',\n   '卿',\n   '严',\n   '厷',\n   '友',\n   '叐',\n   '右',\n   '吏',\n   '乔',\n   '囪',\n   '囪',\n   '垂',\n   '场',\n   '场',\n   '壬',\n   '夂',\n   '夂',\n   '夕',\n   '夕',\n   '夭',\n   '夰',\n   '女',\n   '姊',\n   '姊',\n   '孑',\n   '少',\n   '尓',\n   '尢',\n   '尤',\n   '尸',\n   '尹',\n   '屯',\n   '川',\n   '左',\n   '差',\n   '希',\n   '帅',\n   '师',\n   '年',\n   '广',\n   '厂',\n   '延',\n   '廾',\n   '弗',\n   '弟',\n   '彡',\n   '彡',\n   '彡',\n   '彧',\n   '彧',\n   '彳',\n   '复',\n   '心',\n   '必',\n   '戈',\n   '戊',\n   '戚',\n   '手',\n   '扌',\n   '才',\n   '扥',\n   '拖',\n   '扬',\n   '扬',\n   '攵',\n   '齐',\n   '斺',\n   '施',\n   '斾',\n   '斿',\n   '旂',\n   '旃',\n   '旄',\n   '旅',\n   '旆',\n   '旇',\n   '旊',\n   '旋',\n   '旌',\n   '旍',\n   '旎',\n   '族',\n   '旐',\n   '旒',\n   '旓',\n   '旖',\n   '旗',\n   '旚',\n   '旛',\n   '旜',\n   '旝',\n   '旞',\n   '旡',\n   '旸',\n   '旸',\n   '畅',\n   '畅',\n   '曳',\n   '曵',\n   '有',\n   '朱',\n   '枾',\n   '柂',\n   '柹',\n   '柹',\n   '栴',\n   '棃',\n   '杨',\n   '杨',\n   '乐',\n   '橆',\n   '归',\n   '殇',\n   '殇',\n   '殇',\n   '段',\n   '每',\n   '毛',\n   '氕',\n   '气',\n   '氘',\n   '氵',\n   '沲',\n   '汤',\n   '汤',\n   '灰',\n   '炧',\n   '为',\n   '炀',\n   '炀',\n   '熈',\n   '熏',\n   '爫',\n   '尔',\n   '爿',\n   '片',\n   '牙',\n   '牛',\n   '牜',\n   '牜',\n   '犂',\n   '犭',\n   '犮',\n   '狏',\n   '玈',\n   '琁',\n   '玚',\n   '玚',\n   '生',\n   '产',\n   '疈',\n   '疡',\n   '疡',\n   '发',\n   '发',\n   '皮',\n   '监',\n   '盬',\n   '矛',\n   '矢',\n   '石',\n   '砤',\n   '砀',\n   '砀',\n   '祣',\n   '禹',\n   '禾',\n   '秉',\n   '秉',\n   '龙',\n   '竹',\n   '竹',\n   '第',\n   '粚',\n   '肃',\n   '缶',\n   '羞',\n   '耂',\n   '胣',\n   '胤',\n   '肠',\n   '肠',\n   '临',\n   '臼',\n   '舞',\n   '菞',\n   '着',\n   '蜁',\n   '血',\n   '袘',\n   '见',\n   '览',\n   '觞',\n   '觞',\n   '觞',\n   '豕',\n   '豕',\n   '豕',\n   '豸',\n   '豸',\n   '豸',\n   '豸',\n   '赤',\n   '身',\n   '辨',\n   '迤',\n   '逰',\n   '乡',\n   '釆',\n   '重',\n   '錅',\n   '钖',\n   '钖',\n   '鍳',\n   '鉴',\n   '陁',\n   '雗',\n   '非',\n   '齑',\n   '飏',\n   '飏',\n   '饬',\n   '养',\n   '肴',\n   '饧',\n   '饧',\n   '鬺',\n   '么',\n   '黎',\n   '黧']),\n ('乚',\n  ['七',\n   '乜',\n   '也',\n   '乢',\n   '乣',\n   '乨',\n   '乵',\n   '乹',\n   '乿',\n   '乱',\n   '亃',\n   '亄',\n   '儿',\n   '冘',\n   '劜',\n   '匕',\n   '厯',\n   '圠',\n   '尢',\n   '尤',\n   '屯',\n   '己',\n   '已',\n   '巳',\n   '心',\n   '扎',\n   '扥',\n   '旡',\n   '札',\n   '玌',\n   '甚',\n   '甩',\n   '癿',\n   '礼',\n   '耴',\n   '胤',\n   '臫',\n   '虬',\n   '见',\n   '轧',\n   '钆',\n   '电']),\n ('丨',\n  ['丄',\n   '丅',\n   '上',\n   '下',\n   '丌',\n   '不',\n   '丑',\n   '世',\n   '丫',\n   '丬',\n   '中',\n   '丮',\n   '丯',\n   '丰',\n   '乑',\n   '也',\n   '五',\n   '井',\n   '亾',\n   '介',\n   '个',\n   '候',\n   '偹',\n   '免',\n   '兔',\n   '兦',\n   '两',\n   '共',\n   '共',\n   '兼',\n   '兼',\n   '冂',\n   '凵',\n   '凵',\n   '出',\n   '刂',\n   '十',\n   '卄',\n   '卄',\n   '卌',\n   '卜',\n   '卝',\n   '卝',\n   '卩',\n   '叟',\n   '乔',\n   '噩',\n   '囊',\n   '囗',\n   '垂',\n   '垂',\n   '坚',\n   '坚',\n   '夅',\n   '夰',\n   '奊',\n   '姊',\n   '姬',\n   '姬',\n   '专',\n   '屮',\n   '山',\n   '峄',\n   '川',\n   '川',\n   '工',\n   '巾',\n   '帅',\n   '师',\n   '年',\n   '廌',\n   '廌',\n   '廾',\n   '引',\n   '弗',\n   '弟',\n   '怿',\n   '择',\n   '攸',\n   '齐',\n   '斗',\n   '断',\n   '曲',\n   '曲',\n   '曷',\n   '书',\n   '曹',\n   '曹',\n   '曾',\n   '枾',\n   '柹',\n   '业',\n   '业',\n   '乐',\n   '檵',\n   '止',\n   '归',\n   '母',\n   '氘',\n   '泽',\n   '爪',\n   '爿',\n   '爿',\n   '犀',\n   '狦',\n   '狦',\n   '生',\n   '监',\n   '监',\n   '直',\n   '県',\n   '眔',\n   '眞',\n   '睂',\n   '礻',\n   '秉',\n   '竖',\n   '竖',\n   '竵',\n   '竹',\n   '第',\n   '肃',\n   '紧',\n   '紧',\n   '绎',\n   '罒',\n   '罒',\n   '羊',\n   '羋',\n   '而',\n   '而',\n   '声',\n   '聿',\n   '肀',\n   '肾',\n   '肾',\n   '临',\n   '临',\n   '临',\n   '臼',\n   '举',\n   '旧',\n   '舛',\n   '舞',\n   '舞',\n   '舞',\n   '舞',\n   '舟',\n   '艹',\n   '艹',\n   '芈',\n   '虍',\n   '蟗',\n   '蠿',\n   '衤',\n   '袅',\n   '褱',\n   '覀',\n   '覀',\n   '览',\n   '览',\n   '译',\n   '象',\n   '贤',\n   '贤',\n   '躖',\n   '辵',\n   '郻',\n   '释',\n   '铎',\n   '鉴',\n   '鉴',\n   '镸',\n   '门',\n   '雨',\n   '青',\n   '非',\n   '面',\n   '面',\n   '韦',\n   '齑',\n   '颐',\n   '颐',\n   '养',\n   '驿',\n   '髙',\n   '髙',\n   '鹿',\n   '鹿',\n   '𢰻']),\n ('刀',\n  ['万',\n   '亀',\n   '免',\n   '兔',\n   '刃',\n   '刄',\n   '刅',\n   '分',\n   '切',\n   '刍',\n   '刕',\n   '刕',\n   '刕',\n   '初',\n   '券',\n   '剓',\n   '剪',\n   '剺',\n   '劈',\n   '危',\n   '厃',\n   '叧',\n   '叨',\n   '召',\n   '夐',\n   '奂',\n   '契',\n   '嫓',\n   '忉',\n   '恝',\n   '挈',\n   '敻',\n   '方',\n   '旫',\n   '朷',\n   '栔',\n   '欠',\n   '毚',\n   '洯',\n   '灱',\n   '烉',\n   '争',\n   '犂',\n   '粱',\n   '絜',\n   '臽',\n   '舠',\n   '色',\n   '芀',\n   '虭',\n   '蛪',\n   '衡',\n   '觢',\n   '解',\n   '詹',\n   '象',\n   '负',\n   '辧',\n   '鱼',\n   '鱽',\n   '鳭',\n   '麁',\n   '龟']),\n ('乂',\n  ['丈',\n   '凶',\n   '刈',\n   '区',\n   '史',\n   '囟',\n   '垴',\n   '冈',\n   '巤',\n   '希',\n   '恡',\n   '恼',\n   '攀',\n   '攀',\n   '攵',\n   '文',\n   '杀',\n   '卤',\n   '父',\n   '爻',\n   '爻',\n   '爽',\n   '爽',\n   '爽',\n   '爽',\n   '犮',\n   '禼',\n   '网',\n   '网',\n   '罓',\n   '义',\n   '脑',\n   '艾',\n   '茰',\n   '赵',\n   '郄',\n   '风',\n   '肴',\n   '鬛',\n   '鬯']),\n ('丶',\n  ['上',\n   '下',\n   '不',\n   '丫',\n   '丫',\n   '丷',\n   '丸',\n   '丹',\n   '主',\n   '丼',\n   '乑',\n   '乓',\n   '亠',\n   '亡',\n   '亣',\n   '今',\n   '仒',\n   '仒',\n   '傔',\n   '傔',\n   '兆',\n   '兆',\n   '兔',\n   '冖',\n   '冫',\n   '凡',\n   '凢',\n   '凣',\n   '刃',\n   '勺',\n   '匆',\n   '卑',\n   '卜',\n   '卞',\n   '卪',\n   '卵',\n   '厯',\n   '厯',\n   '厶',\n   '叅',\n   '叉',\n   '向',\n   '囟',\n   '囪',\n   '囪',\n   '囱',\n   '圡',\n   '夕',\n   '夜',\n   '太',\n   '失',\n   '奥',\n   '宀',\n   '寕',\n   '寸',\n   '尤',\n   '岛',\n   '州',\n   '州',\n   '州',\n   '巤',\n   '巤',\n   '巤',\n   '巤',\n   '巴',\n   '年',\n   '广',\n   '弋',\n   '彣',\n   '心',\n   '心',\n   '恭',\n   '慊',\n   '慊',\n   '慕',\n   '戈',\n   '戍',\n   '户',\n   '抵',\n   '斗',\n   '斗',\n   '斥',\n   '日',\n   '曵',\n   '书',\n   '朮',\n   '母',\n   '母',\n   '氐',\n   '水',\n   '氵',\n   '氵',\n   '氶',\n   '氷',\n   '永',\n   '求',\n   '灬',\n   '灬',\n   '灬',\n   '灬',\n   '为',\n   '为',\n   '爫',\n   '爫',\n   '爫',\n   '犬',\n   '犭',\n   '犮',\n   '率',\n   '率',\n   '玉',\n   '玊',\n   '瓜',\n   '甪',\n   '甫',\n   '甶',\n   '畗',\n   '疈',\n   '疒',\n   '发',\n   '白',\n   '监',\n   '眉',\n   '睾',\n   '礻',\n   '礻',\n   '粤',\n   '绂',\n   '义',\n   '习',\n   '而',\n   '臣',\n   '臣',\n   '临',\n   '自',\n   '舟',\n   '舟',\n   '良',\n   '蚤',\n   '术',\n   '衣',\n   '衤',\n   '衤',\n   '衤',\n   '袅',\n   '览',\n   '言',\n   '讠',\n   '诋',\n   '豕',\n   '豖',\n   '豸',\n   '豸',\n   '身',\n   '辨',\n   '迖',\n   '邸',\n   '鍳',\n   '鉴',\n   '门',\n   '隳',\n   '雨',\n   '雨',\n   '雨',\n   '雨',\n   '面',\n   '靣',\n   '韨',\n   '页',\n   '头',\n   '头',\n   '首',\n   '鬛',\n   '鬛',\n   '鬛',\n   '鬛',\n   '鬯',\n   '鬯',\n   '鬯',\n   '鬯',\n   '鬼',\n   '鲎',\n   '鲎',\n   '鲎',\n   '鸟',\n   '丽',\n   '丽',\n   '鼠',\n   '鼠',\n   '鼠',\n   '鼠']),\n ('正',\n  ['丐',\n   '佂',\n   '佱',\n   '囸',\n   '姃',\n   '征',\n   '徰',\n   '徰',\n   '怔',\n   '政',\n   '整',\n   '昰',\n   '柾',\n   '歪',\n   '泟',\n   '炡',\n   '焉',\n   '症',\n   '眐',\n   '罡',\n   '聇',\n   '证',\n   '钲',\n   '阷',\n   '靕',\n   '頙'])]"
     },
     "execution_count": 35,
     "metadata": {},
     "output_type": "execute_result"
    }
   ],
   "source": [
    "sp_chars={}\n",
    "for chara,splits in data.items():\n",
    "    for sp in splits:\n",
    "        if sp in sp_chars:\n",
    "            sp_chars[sp].append(chara)\n",
    "        else:\n",
    "            sp_chars[sp]=[chara]\n",
    "list(sp_chars.items())[:10]"
   ],
   "metadata": {
    "collapsed": false
   }
  },
  {
   "cell_type": "code",
   "execution_count": 18,
   "outputs": [],
   "source": [
    "all_sp=set(__ for _ in data.values() for __ in _ )\n",
    "sp_chars={name:[] for name in all_sp}\n",
    "for chara,splits in data.items():\n",
    "    for sp in splits:\n",
    "        sp_chars[sp].append(chara)\n",
    "sp_chars={name:tuple(chars) for name,chars in sp_chars.items()}"
   ],
   "metadata": {
    "collapsed": false
   }
  },
  {
   "cell_type": "code",
   "execution_count": 19,
   "outputs": [],
   "source": [
    "with open(\"data/MyHanziData/all_splits.txt\",\"w\",encoding=\"utf8\") as f:\n",
    "    f.write(\" \".join(all_sp))\n",
    "with open(\"data/MyHanziData/ReserveDict.pkl\",\"wb\") as f:\n",
    "    pickle.dump(sp_chars,f)\n"
   ],
   "metadata": {
    "collapsed": false
   }
  },
  {
   "cell_type": "code",
   "execution_count": 30,
   "outputs": [
    {
     "data": {
      "text/plain": "[('龃', ('齿', '且')),\n ('龆', ('齿', '召')),\n ('龄', ('齿', '令')),\n ('龈', ('齿', '艮')),\n ('龊', ('齿', '足')),\n ('龉', ('齿', '吾')),\n ('龋', ('齿', '禹')),\n ('龌', ('齿', '屋')),\n ('龡', ('龠', '欠')),\n ('龢', ('龠', '禾')),\n ('龣', ('龠', '录')),\n ('龤', ('龠', '皆')),\n ('刾', ('夹', '刂')),\n ('鲃', ('鱼', '巴')),\n ('鳚', ('鱼', '尉')),\n ('鳤', ('鱼', '管')),\n ('鹮', ('睘', '鸟')),\n ('呣', ('口', '母')),\n ('嚒', ('口', '麼')),\n ('嚡', ('口', '鞋'))]"
     },
     "execution_count": 30,
     "metadata": {},
     "output_type": "execute_result"
    }
   ],
   "source": [
    "splitable={char:data[char] for char in data if stru.get(char,HanziStructure.独体) in [HanziStructure.左右,HanziStructure.左中右]}#,HanziStructure.左下包围,HanziStructure.上中下]}\n",
    "list(splitable.items())[-20:]"
   ],
   "metadata": {
    "collapsed": false
   }
  },
  {
   "cell_type": "code",
   "execution_count": 29,
   "outputs": [],
   "source": [
    "def to_mars(_s:str):\n",
    "    _=[]\n",
    "    for char in _s:\n",
    "        if char in all_sp :\n",
    "            print(f\"{char}->{' '.join(sp_chars[char])}\")\n",
    "            _.append(sp_chars[char][0])\n",
    "        else:\n",
    "            print(char)\n",
    "            _.append(char)\n",
    "    return \"\".join(_)"
   ],
   "metadata": {
    "collapsed": false,
    "pycharm": {
     "name": "#%%h'c\n"
    }
   }
  },
  {
   "cell_type": "code",
   "execution_count": 28,
   "outputs": [],
   "source": [
    "def flatten_hanzi(_s:str):\n",
    "    _=[]\n",
    "    for i in _s:\n",
    "        if i in splitable:\n",
    "            _.extend(splitable[i])\n",
    "        else:\n",
    "            _.append(i)\n",
    "    return \"\".join(_)"
   ],
   "metadata": {
    "collapsed": false
   }
  },
  {
   "cell_type": "code",
   "execution_count": 9,
   "outputs": [
    {
     "data": {
      "text/plain": "'这么美女子白勺心忄青也要必备囗阿'"
     },
     "execution_count": 9,
     "metadata": {},
     "output_type": "execute_result"
    }
   ],
   "source": [
    "flatten_hanzi(\"这么美好的心情也要必备啊\")"
   ],
   "metadata": {
    "collapsed": false
   }
  },
  {
   "cell_type": "code",
   "execution_count": 30,
   "outputs": [
    {
     "name": "stdout",
     "output_type": "stream",
     "text": [
      "现\n",
      "在->恠 茬\n",
      "我->俄 哦 娥 峨 涐 珴 皒 睋 硪 莪 蛾 锇 饿 鹅\n",
      "代->岱 帒 柋 牮 玳 笩 蚮 袋 贷 鴏 黛\n",
      "表->俵 婊 脿 裱 㧼\n",
      "火->炎 炏 焱 焱 燊 燊 燚 燚 燚 燮 爕 爕 爚 謍\n",
      "星->惺 戥 暒 湦 煋 猩 瑆 睲 篂 腥 醒\n",
      "人->仌 两 坐 巫 庻 从 众 众 臮 蕐 蕐 蕐 赍 韱\n",
      "为->伪 妫 沩\n",
      "你->您\n",
      "俩\n",
      "主->住 妵 宔 往 拄 柱 樦 殶 注 炷 疰 砫 罜 蛀 跓 迬 隹 驻 麈 黈\n",
      "持\n",
      "公->伀 妐 彸 忩 忪 昖 松 枀 棇 炂 玜 瓮 翁 舩 蚣 衳 衮 讼 颂\n",
      "道->噵 檤\n"
     ]
    },
    {
     "data": {
      "text/plain": "'现恠俄岱俵炎惺仌伪您俩住持伀噵'"
     },
     "execution_count": 30,
     "metadata": {},
     "output_type": "execute_result"
    }
   ],
   "source": [
    "to_mars(\"现在我代表火星人为你俩主持公道\")"
   ],
   "metadata": {
    "collapsed": false
   }
  },
  {
   "cell_type": "code",
   "execution_count": 3,
   "outputs": [],
   "source": [
    "aa = []\n",
    "for _ in data.values():\n",
    "    aa.extend(_)"
   ],
   "metadata": {
    "collapsed": false
   }
  },
  {
   "cell_type": "code",
   "execution_count": 4,
   "outputs": [],
   "source": [
    "from collections import Counter\n",
    "\n",
    "c = Counter(aa)"
   ],
   "metadata": {
    "collapsed": false
   }
  },
  {
   "cell_type": "code",
   "execution_count": 8,
   "outputs": [],
   "source": [
    "aaa=set(aa)\n",
    "count=0\n",
    "with open(\"all_sp.txt\",\"w\",encoding=\"utf8\") as f:\n",
    "    for sp in sorted(aaa,key=lambda x: c[x]):\n",
    "        if c[sp]>1 :\n",
    "            count+=1\n",
    "            f.write(sp+\" \")\n",
    "            if count%20 == 19:\n",
    "                f.write(\"\\n\")"
   ],
   "metadata": {
    "collapsed": false
   }
  },
  {
   "cell_type": "code",
   "execution_count": 7,
   "outputs": [
    {
     "data": {
      "text/plain": "1376"
     },
     "execution_count": 7,
     "metadata": {},
     "output_type": "execute_result"
    }
   ],
   "source": [
    "len([i for i in set(aa) if c[i]>1])"
   ],
   "metadata": {
    "collapsed": false
   }
  },
  {
   "cell_type": "code",
   "execution_count": 22,
   "outputs": [
    {
     "data": {
      "text/plain": "[('氵', 848), ('囗', 809), ('木', 793), ('艹', 773), ('才', 655)]"
     },
     "execution_count": 22,
     "metadata": {},
     "output_type": "execute_result"
    }
   ],
   "source": [
    "c.most_common(5)"
   ],
   "metadata": {
    "collapsed": false
   }
  },
  {
   "cell_type": "code",
   "execution_count": 31,
   "outputs": [],
   "source": [
    "import matplotlib.pyplot as plt\n",
    "def pie(_d):\n",
    "    plt.pie(_d.values(),\n",
    "            labels=[int(_) for _ in _d.keys()],  # 设置饼图标签\n",
    "            # autopct='%.2f%%',  # 格式化输出百分比\n",
    "            )\n",
    "    plt.show()"
   ],
   "metadata": {
    "collapsed": false
   }
  },
  {
   "cell_type": "code",
   "execution_count": 24,
   "outputs": [
    {
     "data": {
      "text/plain": "<Figure size 432x288 with 1 Axes>",
      "image/png": "[encoded data removed]"
     },
     "metadata": {},
     "output_type": "display_data"
    }
   ],
   "source": [
    "pie(c)"
   ],
   "metadata": {
    "collapsed": false
   }
  },
  {
   "cell_type": "code",
   "execution_count": 32,
   "outputs": [
    {
     "data": {
      "text/plain": "<Figure size 432x288 with 1 Axes>",
      "image/png": "[encoded data removed]"
     },
     "metadata": {},
     "output_type": "display_data"
    }
   ],
   "source": [
    "pie(qwer)"
   ],
   "metadata": {
    "collapsed": false
   }
  },
  {
   "cell_type": "code",
   "execution_count": 38,
   "outputs": [],
   "source": [
    "qq={name:[] for name in set(aa)}\n",
    "for chara,splits in data.items():\n",
    "    for sp in splits:\n",
    "        qq[sp].append(chara)"
   ],
   "metadata": {
    "collapsed": false
   }
  },
  {
   "cell_type": "code",
   "execution_count": 43,
   "outputs": [
    {
     "data": {
      "text/plain": "[('徹', ['勶']),\n ('圼', ['捏', '涅', '陧']),\n ('品', ['偘', '匲', '喦', '嵒', '嵓', '操', '榀', '澡', '煰', '燥', '癌', '碞', '蕚', '躁']),\n ('豚', ['遯']),\n ('忽', ['唿', '惚', '淴', '锪', '㧾']),\n ('心', ['惢', '惢']),\n ('從', ['摐', '漎', '踨']),\n ('少',\n  ['京',\n   '亰',\n   '仦',\n   '仯',\n   '光',\n   '劣',\n   '単',\n   '原',\n   '叔',\n   '吵',\n   '唢',\n   '尝',\n   '当',\n   '喾',\n   '坣',\n   '尘',\n   '夵',\n   '妙',\n   '孙',\n   '学',\n   '尐',\n   '少',\n   '尒',\n   '尓',\n   '尕',\n   '尖',\n   '尗',\n   '尚',\n   '尛',\n   '尜',\n   '尞',\n   '尟',\n   '尠',\n   '峃',\n   '应',\n   '抄',\n   '朩',\n   '杪',\n   '东',\n   '步',\n   '歩',\n   '杀',\n   '沙',\n   '渺',\n   '泶',\n   '炒',\n   '爫',\n   '尔',\n   '玅',\n   '琐',\n   '省',\n   '眇',\n   '砂',\n   '示',\n   '秒',\n   '竗',\n   '粆',\n   '糸',\n   '纱',\n   '缈',\n   '耖',\n   '肖',\n   '觉',\n   '觘',\n   '赻',\n   '钞',\n   '锁',\n   '雀',\n   '鲎',\n   '鸴',\n   '麨',\n   '黉',\n   '𨈓']),\n ('寅', ['夤', '戭', '殥', '演', '璌', '瞚', '蔩', '螾']),\n ('祭', ['傺', '察', '憏', '摖', '暩', '漈', '瘵', '磜', '穄', '蔡']),\n ('且',\n  ['伹',\n   '俎',\n   '冝',\n   '刞',\n   '助',\n   '咀',\n   '坥',\n   '姐',\n   '宜',\n   '岨',\n   '徂',\n   '怚',\n   '抯',\n   '柤',\n   '査',\n   '殂',\n   '沮',\n   '爼',\n   '狙',\n   '珇',\n   '疽',\n   '砠',\n   '祖',\n   '租',\n   '笡',\n   '粗',\n   '组',\n   '县',\n   '罝',\n   '耝',\n   '苴',\n   '虘',\n   '蛆',\n   '袓',\n   '诅',\n   '豠',\n   '趄',\n   '跙',\n   '身',\n   '鉏',\n   '阻',\n   '雎',\n   '靻',\n   '驵',\n   '麆',\n   '龃']),\n ('允', ['充', '吮', '抁', '沇', '狁', '玧', '阭']),\n ('自',\n  ['咱',\n   '垍',\n   '夏',\n   '奡',\n   '息',\n   '憩',\n   '戛',\n   '洎',\n   '瘪',\n   '脜',\n   '臫',\n   '臬',\n   '臭',\n   '臰',\n   '臱',\n   '辠',\n   '郋',\n   '鼻']),\n ('盈', ['戤', '楹', '萾', '㨕']),\n ('逆', ['磀']),\n ('甾', ['椔', '淄', '湽', '疀', '缁', '菑', '葘', '辎', '锱', '鲻']),\n ('雍', ['噰', '壅', '澭', '甕', '癕', '罋', '臃', '蕹']),\n ('単', ['箪']),\n ('氏',\n  ['哌',\n   '坁',\n   '帋',\n   '扺',\n   '挀',\n   '昏',\n   '桰',\n   '氐',\n   '氒',\n   '汦',\n   '派',\n   '疧',\n   '眂',\n   '眽',\n   '祇',\n   '秖',\n   '纸',\n   '舐',\n   '芪',\n   '蚔',\n   '衇',\n   '衹',\n   '觗']),\n ('隆', ['嶐', '漋', '癃', '窿', '蕯', '霳']),\n ('崇', ['漴']),\n ('敕', ['嫩', '慗', '整', '潄', '瘷', '遫']),\n ('数', ['擞', '䉤', '薮']),\n ('盪', ['蘯']),\n ('熙', ['凞', '熈']),\n ('㇆',\n  ['乃',\n   '乃',\n   '五',\n   '刀',\n   '力',\n   '勹',\n   '卩',\n   '司',\n   '尸',\n   '局',\n   '己',\n   '已',\n   '巳',\n   '幻',\n   '弓',\n   '成',\n   '戼',\n   '片',\n   '门',\n   '韦']),\n ('舛', ['桀', '椉', '粦', '舜', '荈']),\n ('仚', ['佡']),\n ('屯',\n  ['伅',\n   '吨',\n   '囤',\n   '坉',\n   '庉',\n   '忳',\n   '扽',\n   '旽',\n   '旾',\n   '杶',\n   '沌',\n   '炖',\n   '盹',\n   '砘',\n   '窀',\n   '纯',\n   '肫',\n   '芚',\n   '豘',\n   '迍',\n   '邨',\n   '钝',\n   '霕',\n   '顿',\n   '饨',\n   '鲀',\n   '黗']),\n ('衍', ['愆', '椼', '葕', '𢯼']),\n ('岢', ['碋']),\n ('禹', ['偊', '属', '楀', '渪', '瑀', '竬', '聥', '萭', '蝺', '踽', '鄅', '龋', '𢯺']),\n ('行',\n  ['桁',\n   '洐',\n   '烆',\n   '珩',\n   '筕',\n   '绗',\n   '胻',\n   '荇',\n   '衍',\n   '衎',\n   '衏',\n   '衑',\n   '衒',\n   '衖',\n   '街',\n   '衘',\n   '衙',\n   '衜',\n   '衟',\n   '衠',\n   '衢',\n   '衔',\n   '鸻']),\n ('毅', ['藙']),\n ('赤',\n  ['哧',\n   '捇',\n   '浾',\n   '焃',\n   '赥',\n   '赦',\n   '赧',\n   '赨',\n   '赩',\n   '赫',\n   '赫',\n   '赪',\n   '赭',\n   '赮',\n   '赯',\n   '郝']),\n ('岑', ['侺', '埁', '梣', '涔', '琌', '硶']),\n ('虱', ['鲺']),\n ('㠯', ['官']),\n ('禁', ['僸', '凚', '噤', '澿', '襟', '㩒']),\n ('零', ['澪', '燯', '蕶']),\n ('宜', ['竩', '萓', '谊']),\n ('莝', ['遳']),\n ('对', ['怼']),\n ('钅',\n  ['凎',\n   '唫',\n   '崟',\n   '崯',\n   '惍',\n   '捦',\n   '钦',\n   '淦',\n   '淾',\n   '碒',\n   '钵',\n   '铺',\n   '菳',\n   '趛',\n   '钆',\n   '钇',\n   '钌',\n   '钊',\n   '钉',\n   '钋',\n   '釜',\n   '针',\n   '釡',\n   '钓',\n   '钐',\n   '釦',\n   '钏',\n   '钒',\n   '釭',\n   '钗',\n   '钍',\n   '钕',\n   '钎',\n   '钯',\n   '钫',\n   '钘',\n   '钭',\n   '钚',\n   '钠',\n   '钝',\n   '钩',\n   '钤',\n   '钣',\n   '钑',\n   '钞',\n   '钮',\n   '钧',\n   '钙',\n   '钬',\n   '钛',\n   '钪',\n   '铌',\n   '铈',\n   '钶',\n   '铃',\n   '钴',\n   '钹',\n   '铍',\n   '钰',\n   '钸',\n   '铀',\n   '钿',\n   '钾',\n   '铁',\n   '钜',\n   '铊',\n   '铉',\n   '铇',\n   '铋',\n   '鉏',\n   '铂',\n   '钷',\n   '钳',\n   '铆',\n   '铅',\n   '钺',\n   '钲',\n   '钼',\n   '钽',\n   '铏',\n   '铰',\n   '铒',\n   '铬',\n   '铪',\n   '银',\n   '铳',\n   '铜',\n   '铚',\n   '銐',\n   '铣',\n   '铨',\n   '铢',\n   '铭',\n   '铫',\n   '铦',\n   '衔',\n   '铑',\n   '铷',\n   '铱',\n   '铟',\n   '铵',\n   '铥',\n   '铕',\n   '铯',\n   '铐',\n   '钱',\n   '铞',\n   '锐',\n   '销',\n   '锈',\n   '锑',\n   '锉',\n   '铝',\n   '锒',\n   '锌',\n   '钡',\n   '铤',\n   '铗',\n   '锋',\n   '铻',\n   '锊',\n   '铘',\n   '锄',\n   '锃',\n   '锔',\n   '锇',\n   '铓',\n   '铖',\n   '锆',\n   '锂',\n   '铽',\n   '铸',\n   '锯',\n   '鋻',\n   '钢',\n   '锞',\n   '錃',\n   '锖',\n   '锫',\n   '锩',\n   '铔',\n   '锥',\n   '锕',\n   '锟',\n   '錖',\n   '锤',\n   '锱',\n   '铮',\n   '锛',\n   '锬',\n   '锭',\n   '锜',\n   '锦',\n   '锚',\n   '锠',\n   '锡',\n   '锢',\n   '错',\n   '锰',\n   '铼',\n   '锨',\n   '锪',\n   '钔',\n   '锴',\n   '锳',\n   '锅',\n   '镀',\n   '锷',\n   '铡',\n   '鍙',\n   '锻',\n   '锽',\n   '锸',\n   '锲',\n   '锘',\n   '锹',\n   '锾',\n   '键',\n   '锶',\n   '钟',\n   '锺',\n   '镁',\n   '锿',\n   '镅',\n   '镑',\n   '镕',\n   '锁',\n   '镉',\n   '镈',\n   '镃',\n   '钨',\n   '蓥',\n   '镏',\n   '铠',\n   '铩',\n   '锼',\n   '镐',\n   '镇',\n   '镒',\n   '镋',\n   '镍',\n   '镓',\n   '镌',\n   '镎',\n   '镞',\n   '镟',\n   '链',\n   '鏊',\n   '镆',\n   '镙',\n   '镠',\n   '镝',\n   '鏖',\n   '铿',\n   '锵',\n   '镗',\n   '镘',\n   '镛',\n   '铲',\n   '镜',\n   '镖',\n   '镂',\n   '錾',\n   '镚',\n   '铧',\n   '镤',\n   '镪',\n   '铙',\n   '铴',\n   '镣',\n   '铹',\n   '镦',\n   '镡',\n   '镫',\n   '鐜',\n   '镢',\n   '镨',\n   '锎',\n   '锏',\n   '镄',\n   '镰',\n   '镯',\n   '镭',\n   '镮',\n   '铛',\n   '鐾',\n   '镱',\n   '镬',\n   '镔',\n   '镲',\n   '锧',\n   '钻',\n   '镴',\n   '铄',\n   '镳',\n   '镥',\n   '鑫',\n   '镧',\n   '钥',\n   '镵',\n   '镶',\n   '镊',\n   '镩',\n   '锣',\n   '銮']),\n ('歲', ['奯', '檅', '薉']),\n ('丞', ['卺', '巹', '拯', '洆', '烝', '脀']),\n ('崔',\n  ['催', '凗', '嗺', '墔', '慛', '摧', '槯', '漼', '熣', '獕', '璀', '皠', '磪', '膗', '趡']),\n ('箭', ['擶']),\n ('答', ['劄', '撘']),\n ('科', ['犐', '萪', '蝌', '𢱃'])]"
     },
     "execution_count": 43,
     "metadata": {},
     "output_type": "execute_result"
    }
   ],
   "source": [
    "list(qq.items())[:50]"
   ],
   "metadata": {
    "collapsed": false
   }
  },
  {
   "cell_type": "code",
   "execution_count": 52,
   "outputs": [],
   "source": [
    "def get_simliar(char):\n",
    "    if char not in data:\n",
    "        raise Exception(\"dont have word\")\n",
    "    _all=set()\n",
    "    for sp in data[char]:\n",
    "        _all.update(qq[sp])\n",
    "    _all.remove(char)\n",
    "    return _all"
   ],
   "metadata": {
    "collapsed": false
   }
  },
  {
   "cell_type": "code",
   "execution_count": null,
   "outputs": [],
   "source": [],
   "metadata": {
    "collapsed": false
   }
  },
  {
   "cell_type": "code",
   "execution_count": 53,
   "outputs": [
    {
     "data": {
      "text/plain": "{'䜥',\n '䜩',\n '伦',\n '信',\n '唁',\n '囵',\n '圁',\n '娮',\n '寣',\n '悥',\n '抡',\n '沦',\n '狱',\n '狺',\n '琂',\n '瘪',\n '纶',\n '罚',\n '訇',\n '訔',\n '訚',\n '訾',\n '詈',\n '詟',\n '詧',\n '誉',\n '誊',\n '誓',\n '誖',\n '誯',\n '諅',\n '諐',\n '諬',\n '謈',\n '謦',\n '謩',\n '謷',\n '謽',\n '譀',\n '譍',\n '譥',\n '警',\n '譬',\n '譱',\n '譶',\n '讐',\n '讙',\n '计',\n '订',\n '讣',\n '认',\n '讥',\n '讦',\n '讧',\n '讨',\n '让',\n '讪',\n '讫',\n '讬',\n '训',\n '议',\n '讯',\n '记',\n '讱',\n '讲',\n '讳',\n '讴',\n '讵',\n '讶',\n '讷',\n '许',\n '讹',\n '讻',\n '讼',\n '讽',\n '设',\n '访',\n '诀',\n '证',\n '诂',\n '诃',\n '评',\n '诅',\n '识',\n '诇',\n '诈',\n '诉',\n '诊',\n '诋',\n '诌',\n '词',\n '诎',\n '诏',\n '诐',\n '诒',\n '诓',\n '诔',\n '试',\n '诖',\n '诗',\n '诘',\n '诙',\n '诚',\n '诛',\n '诜',\n '话',\n '诞',\n '诟',\n '诠',\n '诡',\n '询',\n '诣',\n '诤',\n '该',\n '详',\n '诧',\n '诨',\n '诩',\n '诪',\n '诫',\n '诬',\n '语',\n '诮',\n '误',\n '诰',\n '诱',\n '诲',\n '诳',\n '说',\n '诵',\n '诶',\n '请',\n '诸',\n '诹',\n '诺',\n '读',\n '诼',\n '诽',\n '课',\n '诿',\n '谀',\n '谁',\n '谂',\n '调',\n '谄',\n '谅',\n '谆',\n '谇',\n '谈',\n '谉',\n '谊',\n '谋',\n '谌',\n '谍',\n '谎',\n '谏',\n '谐',\n '谑',\n '谒',\n '谓',\n '谔',\n '谕',\n '谖',\n '谗',\n '谘',\n '谙',\n '谚',\n '谛',\n '谜',\n '谝',\n '谞',\n '谟',\n '谠',\n '谡',\n '谢',\n '谣',\n '谤',\n '谥',\n '谦',\n '谧',\n '谨',\n '谩',\n '谪',\n '谫',\n '谬',\n '谭',\n '谯',\n '谰',\n '谱',\n '谲',\n '谳',\n '谴',\n '谵',\n '谶',\n '轮',\n '辩',\n '雠',\n '霅'}"
     },
     "execution_count": 53,
     "metadata": {},
     "output_type": "execute_result"
    }
   ],
   "source": [
    "get_simliar(\"论\")"
   ],
   "metadata": {
    "collapsed": false
   }
  },
  {
   "cell_type": "code",
   "execution_count": 74,
   "outputs": [
    {
     "data": {
      "text/plain": "<Figure size 432x288 with 1 Axes>",
      "image/png": "[encoded data removed]"
     },
     "metadata": {},
     "output_type": "display_data"
    }
   ],
   "source": [
    "d = Counter(c.values())  # 对部首出现的次数进行统计\n",
    "\n",
    "\n",
    "i = {_: __ for _, __ in sorted(d.items())}  #,key=lambda x:x[1])\n"
   ],
   "metadata": {
    "collapsed": false
   }
  },
  {
   "cell_type": "code",
   "execution_count": 8,
   "outputs": [
    {
     "data": {
      "text/plain": "[('庀', ('匕',)),\n ('丁', ('一', '亅')),\n ('丂', ('一', '乚')),\n ('七', ('一', '乚')),\n ('丄', ('丨', '一')),\n ('丅', ('一', '丨')),\n ('万', ('一', '勹')),\n ('丈', ('一', '又')),\n ('三', ('一', '土')),\n ('下', ('一', '卜')),\n ('丐', ('卜', '勹')),\n ('丒', ('刃', '一')),\n ('且', ('月', '一')),\n ('丕', ('不', '一')),\n ('丗', ('廿', '丨')),\n ('丘', ('厂', '工')),\n ('丞', ('氶', '一')),\n ('丢', ('丿', '去')),\n ('丠', ('北', '一')),\n ('并', ('八', '开')),\n ('丬', ('冰', '丨')),\n ('中', ('囗', '丨')),\n ('丯', ('丨', '彡')),\n ('丳', ('串', '丿')),\n ('丷', ('丶', '丿')),\n ('丸', ('丶', '九')),\n ('主', ('丶', '王')),\n ('丼', ('井', '丶')),\n ('乂', ('乀', '丿')),\n ('久', ('丿', '入')),\n ('乆', ('𠃊', '入')),\n ('乇', ('丿', '七')),\n ('幺', ('𠃊', '厶')),\n ('乏', ('丿', '之')),\n ('乒', ('丘', '丿')),\n ('乓', ('丘', '丶')),\n ('乖', ('干', '北')),\n ('乘', ('禾', '北')),\n ('乜', ('卩', '乚')),\n ('九', ('丿', '乚')),\n ('乢', ('山', '乚')),\n ('乣', ('幺', '乚')),\n ('乨', ('台', '乚')),\n ('乩', ('占', '乚')),\n ('乪', ('乚', '田')),\n ('乫', ('加', '乚')),\n ('乭', ('石', '乚')),\n ('乳', ('孚', '乚')),\n ('乴', ('折', '乚')),\n ('乵', ('辛', '乚'))]"
     },
     "execution_count": 8,
     "metadata": {},
     "output_type": "execute_result"
    }
   ],
   "source": [
    "sorted(data.items(), key=lambda char: len(char[1]))[:50]"
   ],
   "metadata": {
    "collapsed": false
   }
  },
  {
   "cell_type": "code",
   "execution_count": 35,
   "outputs": [
    {
     "data": {
      "text/plain": "14361"
     },
     "execution_count": 35,
     "metadata": {},
     "output_type": "execute_result"
    }
   ],
   "source": [
    "len(data)"
   ],
   "metadata": {
    "collapsed": false
   }
  },
  {
   "cell_type": "code",
   "execution_count": 15,
   "outputs": [
    {
     "name": "stdout",
     "output_type": "stream",
     "text": [
      "['下', '丿', '勹', '正']\n",
      "['丨', '凵', '十', '廿']\n",
      "['一', '二', '巾', '巿']\n",
      "['乙', '乚', '爪', '爫']\n",
      "['一', '二', '日', '旦']\n",
      "['人', '亻', '夂', '夕']\n",
      "['人', '亻', '爪', '爫']\n",
      "['人', '亻', '夂', '夕']\n",
      "['人', '亻', '西', '覀']\n",
      "['人', '亻', '攴', '攵']\n",
      "['冫', '冰', '夂', '夕']\n",
      "['刀', '刂', '月', '肉']\n",
      "['内', '卜', '占', '呙']\n",
      "['丷', '冖', '宀', '小']\n",
      "['一', '二', '人', '大']\n",
      "['一', '井', '共', '大']\n",
      "['一', '丿', '尸', '彐']\n",
      "['㇆', '乛', '匚', '匸']\n",
      "['宀', '宛', '心', '怨']\n",
      "['心', '忄', '月', '肉']\n",
      "['夂', '夕', '心', '忄']\n",
      "['心', '忄', '网', '罒']\n",
      "['手', '扌', '爪', '爫']\n",
      "['人', '亻', '攴', '攵']\n",
      "['並', '丷', '日', '晋']\n",
      "['呆', '咨', '木', '次']\n",
      "['丨', '卜', '夕', '歹']\n",
      "['日', '曰', '水', '氵']\n",
      "['攴', '攵', '水', '氵']\n",
      "['水', '氵', '爪', '爫']\n",
      "['刀', '刂', '水', '氵']\n",
      "['刀', '刂', '水', '氵']\n",
      "['水', '氵', '艹', '草']\n",
      "['攴', '攵', '水', '氵']\n",
      "['水', '氵', '爪', '爫']\n",
      "['水', '氵', '犬', '犭']\n",
      "['水', '氵', '火', '灬']\n",
      "['水', '氵', '网', '罒']\n",
      "['刀', '刂', '水', '氵']\n",
      "['月', '火', '灬', '肉']\n",
      "['攴', '攵', '火', '灬']\n",
      "['攴', '攵', '牛', '牜']\n",
      "['井', '牛', '牜', '艹']\n",
      "['犬', '犭', '靑', '青']\n",
      "['一', '丿', '午', '王']\n",
      "['攴', '攵', '玉', '王']\n",
      "['爪', '爫', '玉', '王']\n",
      "['乚', '其', '匹', '甘']\n",
      "['丶', '亠', '口', '畐']\n",
      "['一', '丬', '冫', '厂']\n",
      "['示', '礻', '邑', '阝']\n",
      "['目', '示', '礻', '罒']\n",
      "['尓', '尔', '示', '礻']\n",
      "['心', '悤', '穴', '窗']\n",
      "['一', '大', '良', '食']\n",
      "['丝', '攴', '攵', '糸']\n",
      "['爪', '爫', '言', '讠']\n",
      "['元', '袁', '辵', '辶']\n",
      "['爪', '爫', '辵', '辶']\n",
      "['刀', '刂', '金', '钅']\n",
      "['水', '氵', '爪', '爫']\n"
     ]
    }
   ],
   "source": [
    "from functools import reduce\n",
    "\n",
    "all_sim = set()\n",
    "for chara, splits in data.items():\n",
    "    _len = {}\n",
    "    for split in splits:\n",
    "        l = len(split)\n",
    "        if l not in _len:\n",
    "            _len[l] = [set(split)]\n",
    "        else:\n",
    "            _len[l].append(set(split))\n",
    "    for sps in _len.values():\n",
    "        if len(sps) != 2:\n",
    "            continue\n",
    "        # print(sps)\n",
    "        unique = sorted(sps[0] ^ sps[1])\n",
    "        match len(unique):\n",
    "            case 1:\n",
    "                continue\n",
    "            case 2:\n",
    "                all_sim.add(tuple(unique))\n",
    "            case 3:\n",
    "                continue  # print(unique)\n",
    "            case 4:\n",
    "                print(unique)\n"
   ],
   "metadata": {
    "collapsed": false
   }
  },
  {
   "cell_type": "code",
   "execution_count": 9,
   "outputs": [],
   "source": [
    "with open(\"replace.txt\", \"w\", encoding='utf-8') as f:\n",
    "    for i in all_sim:\n",
    "        f.write(f\"{i[0]}\\t{i[1]}\\n\")"
   ],
   "metadata": {
    "collapsed": false
   }
  },
  {
   "cell_type": "code",
   "execution_count": 1,
   "outputs": [],
   "source": [
    "p=r\"../../Data/Html\"\n",
    "import os\n",
    "r=os.listdir(p)"
   ],
   "metadata": {
    "collapsed": false
   }
  },
  {
   "cell_type": "code",
   "execution_count": 12,
   "outputs": [
    {
     "ename": "ModuleNotFoundError",
     "evalue": "No module named 'bs4'",
     "output_type": "error",
     "traceback": [
      "\u001B[1;31m---------------------------------------------------------------------------\u001B[0m",
      "\u001B[1;31mModuleNotFoundError\u001B[0m                       Traceback (most recent call last)",
      "\u001B[1;32m~\\AppData\\Local\\Temp/ipykernel_25380/3089400490.py\u001B[0m in \u001B[0;36m<module>\u001B[1;34m\u001B[0m\n\u001B[1;32m----> 1\u001B[1;33m \u001B[1;32mfrom\u001B[0m \u001B[0mbs4\u001B[0m \u001B[1;32mimport\u001B[0m \u001B[0mBeautifulSoup\u001B[0m\u001B[1;33m\u001B[0m\u001B[1;33m\u001B[0m\u001B[0m\n\u001B[0m",
      "\u001B[1;31mModuleNotFoundError\u001B[0m: No module named 'bs4'"
     ]
    }
   ],
   "source": [
    "from bs4 import BeautifulSoup"
   ],
   "metadata": {
    "collapsed": false
   }
  },
  {
   "cell_type": "code",
   "execution_count": 3,
   "outputs": [
    {
     "name": "stdout",
     "output_type": "stream",
     "text": [
      "\n",
      "\n",
      " <body>\n",
      "\n",
      " <div class=\"zj clearfix\">\n",
      "\n",
      "  <div class=\"info_txt2 clearfix\">\n",
      "\n",
      "<h2 class=\"tit03\">汉字：{{zi}}</h2>\n",
      "\n",
      "<table class=\"zui\" style=\"margin:6px;width:98%;\">\n",
      "\n",
      "\t  <tr>\n",
      "\n",
      "\t\t<td class=\"zuib100\" ><img src=\"{{tupian}}\" border=\"0\">\n",
      "\n",
      "</td>\n",
      "\n",
      "\t\t<td align=\"center\"  style=\"padding-left:18px;\">\n",
      "\n",
      "\t\t<table  width=\"560\" border=\"0\" style=\"font-size:16px\">\n",
      "\n",
      "  <tr>\n",
      "\n",
      "    <td colspan=\"3\">拼音：yī</td>\n",
      "\n",
      "  </tr>\n",
      "\n",
      "  <tr>\n",
      "\n",
      "    <td width=\"30%\">部首：一</td>\n",
      "\n",
      "    <td width=\"30%\">四角码：10000</td>\n",
      "\n",
      "    <td width=\"40%\">仓颉：M</td>\n",
      "\n",
      "  </tr>\n",
      "\n",
      "  <tr>\n",
      "\n",
      "    <td>86五笔：ggll</td>\n",
      "\n",
      "    <td>98五笔：ggll</td>\n",
      "\n",
      "    <td>郑码：A</td>\n",
      "\n",
      "  </tr>\n",
      "\n",
      "  <tr>\n",
      "\n",
      "    <td>Unicode：{{ucode}}</td>\n",
      "\n",
      "    <td>总笔画数：1</td>\n",
      "\n",
      "    <td>笔顺：1</td>\n",
      "\n",
      "  </tr>\n",
      "\n",
      "</table>\n",
      "\n",
      "\n",
      "\n",
      "</td>\n",
      "\n",
      "\t  </tr>\t\n",
      "\n",
      "\t</table>\n",
      "\n",
      "\t&nbsp;<em class=\"ema\">异体字：<a href=\"javascript:gotozi('弌');\" >弌</a>　<a href=\"javascript:gotozi('壹');\" >壹</a>　<a href=\"javascript:gotozi('𠤪');\" >𠤪</a>　</em>\n",
      "\n",
      "\t<h2 class=\"tit03\">汉字：「{{zi}}」基本解释</h2>\n",
      "\n",
      "<p>{{jb}}\n",
      "\n",
      "<script>\n",
      "\n",
      "\n",
      "\n",
      "function showTag(){\n",
      "\n",
      "var con=document.getElementById('hideme');\n",
      "\n",
      "if(con.style.display==\"none\") con.style.display='' ;\n",
      "\n",
      "else con.style.display=\"none\";\n",
      "\n",
      "}\n",
      "\n",
      "</script>\n",
      "\n",
      "<strong>&nbsp;<a href=\"javascript:showTag();\">点此查看：汉字【{{zi}}】更详细解释</a></strong>　　　　\n",
      "\n",
      "\n",
      "\n",
      "<strong><a href=\"/hydcd/129i.html\" target=\"_blank\">【{{zi}}】在《汉语大词典》中的解释</a></strong><br>\n",
      "\n",
      "\n",
      "\n",
      "<div id=\"hideme\" name=\"hideme\" style=\"display:none\"><h2 class=\"tit03\">汉字：「{{zi}}」详细解释</h2><p>◎ <strong>一</strong> <span class=\"dicpy\">yī</span></p>\n",
      "\n",
      "<p>〈数〉</p>\n",
      "\n",
      "<p>(1) (指事。「一」是汉字部首之一。本义:数词。大写作「壹」。最小的正整数。常用以表示人或事、物的最少数量)</p>\n",
      "\n",
      "<p>(2) 同本义 [one]</p>\n",
      "\n",
      "<p class=\"gxds1\"><span>一,惟初太始道立于一,造分天地,化成万物。——《说文》</span></p>\n",
      "\n",
      "<p class=\"gxds1\"><span>一也者,万物之本也。——《<a  title=\"直达该书\" target=\"_blank\" href=\"/a/506f/\">淮南子</a>•诠言》</span></p>\n",
      "\n",
      "<p class=\"gxds1\"><span>抱一而天下试。——《老子》</span></p>\n",
      "\n",
      "<p class=\"gxds1\"><span>故一人有事于四方。——《书·君奭》。传:「天子也。」</span></p>\n",
      "\n",
      "<p class=\"gxds1\"><span>一夫作难而七庙隳,身死人手,为天下笑。——</span><span class=\"gxds2\">汉</span>·<span class=\"gxds2\">贾谊</span>《过秦论》</p>\n",
      "\n",
      "<p class=\"gxds1\"><span>一夫夜呼,乱者四应。(公元九二年六月,李存莇妻刘皇后听信宦官诬告,杀死大臣郭崇韬,时谣言纷起,人心惶惶。屯驻在贝州(现河北省清河县)的军人皇甫晖勾结党羽作乱,拥立指挥使赵在礼为帅,攻入邺都(现河南省安阳市)。邢州(现河北省邢台市)、沧州驻军相继作乱。)——</span><span class=\"gxds2\">宋</span>·<span class=\"gxds2\">欧阳修</span>《<a  title=\"直达该书\" target=\"_blank\" href=\"/a/20c/\">新五代史</a>•伶官传·序》</p>\n",
      "\n",
      "<p>(3) 又如:一境(一个地方);一丝(一根蚕丝);一碗水往平处端(办事公正不偏袒);一拳正打在心窝(一下说到要害处);一人做一人当(敢做就敢于承认,绝不连累别人);一客不烦二主(托一人能办的事,就不再打扰第二个人);一动不如一静(动不如静好);一言抄百语(总而言之);一缘一会(天缘凑合);一路功名(仕途顺利,官运亨通);一盘一盒(礼物);一清如水(静悄悄地没有人影);一毫不爽(一点不差);一息恹恹(疾病缠身,气息微弱)</p>\n",
      "\n",
      "<p>(4) 序数的第一位 [first]</p>\n",
      "\n",
      "<p class=\"gxds1\"><span>一战而举</span><span class=\"gxds2\">鄢</span>、<span class=\"gxds2\">郢</span>。(第一仗就攻下了楚国的重要城市鄢、郢。一战,第一战。指楚顷襄王二十年即公元前279年,秦将白起攻下楚国的鄢、郢二都的战争。举,攻下。鄢,地名,在今湖北省宜城县境。郢,地名,在今湖北省江陵县境。)——《<a  title=\"直达该书\" target=\"_blank\" href=\"/a/1y/\">史记</a>•平原君虞卿列传》</p>\n",
      "\n",
      "<p>(5) 又如:一紧二慢三罢休(指先紧后慢、最后不了了之的官场办事作风);一来二去(经过一段时间的周折);一品锅(一种里面杂放鸡鸭鱼肉、山珍海味的「砂锅」);一甲(科举殿试第一至第三名,赐进士及第);一更;一品(犹言一等;第一等);一等一(第一等中的第一名)</p>\n",
      "\n",
      "<p>(6) 若干份中的一份或整数以外的零头 [odd]</p>\n",
      "\n",
      "<p class=\"gxds1\"><span>先王之制,大都不过参国之一,中五之一,小九之一。——《<a  title=\"直达该书\" target=\"_blank\" href=\"/a/1679q/\">左传</a>》</span></p>\n",
      "\n",
      "<p>(7) 又如:一脚(动物身体的四分之一,一条腿的部分);丈一、丈二;百一;一份(整体分为若干份的一部分);一杆子(方言。犹言一部分);一得(得到一件或一个);一端(指物件的一头)</p>\n",
      "\n",
      "<p>(8) 表示动作一次或短暂 [single;only one]</p>\n",
      "\n",
      "<p class=\"gxds1\"><span>一至</span><span class=\"gxds2\">楚</span>。——《<a  title=\"直达该书\" target=\"_blank\" href=\"/a/1y/\">史记</a>•平原君虞卿列传》</p>\n",
      "\n",
      "<p class=\"gxds1\"><span>初一交战。——《<a  title=\"直达该书\" target=\"_blank\" href=\"/a/326w/\">资治通鉴</a>》</span></p>\n",
      "\n",
      "<p class=\"gxds1\"><span>抚尺一下。——《<a  title=\"直达该书\" target=\"_blank\" href=\"/a/5207l/\">虞初新志</a>•秋声诗自序》</span></p>\n",
      "\n",
      "<p>(9) 又如:一拿一个着(一下子就拿住);一气一个死(气得要命);一忽觉转(一觉醒来);一时半霎(指时间极短);一个眼闪(一会儿工夫);一之为甚(一次已经过分了。用来劝人不要重犯错误)</p>\n",
      "\n",
      "<p>(10) 某一个 [certain]。如:忽见一个从前方来;一天;一次;一夜(指某夜);一能(某一项专长或技能)</p>\n",
      "\n",
      "<p>(11) 每;各 [every time;each]。如:一桌十人;一日三餐</p>\n",
      "\n",
      "<p>(12) 另;又 [another]。如:蝉一名知了</p>\n",
      "\n",
      "<p><strong>词性变化</strong><hr></p>\n",
      "\n",
      "<p>◎ <strong>一</strong> <span class=\"dicpy\">yī</span></p>\n",
      "\n",
      "<p>〈形〉</p>\n",
      "\n",
      "<p>(1) 全;满 [whole;full]</p>\n",
      "\n",
      "<p class=\"gxds1\"><span>一肌一容(一:全部。指宫女的整个肌肤容貌)。——</span><span class=\"gxds2\">唐</span>·<span class=\"gxds2\">杜牧</span>《阿房宫赋》</p>\n",
      "\n",
      "<p class=\"gxds1\"><span>传一乡。——</span><span class=\"gxds2\">宋</span>·<span class=\"gxds2\">王安石</span>《伤仲永》</p>\n",
      "\n",
      "<p class=\"gxds1\"><span>洞庭一湖。——</span><span class=\"gxds2\">宋</span>·<span class=\"gxds2\">范仲淹</span>《岳阳楼记》</p>\n",
      "\n",
      "<p class=\"gxds1\"><span>长烟一空。</span></p>\n",
      "\n",
      "<p class=\"gxds1\"><span>欢动一城。——</span><span class=\"gxds2\">明</span>·<span class=\"gxds2\">高启</span>《书博鸡者事》</p>\n",
      "\n",
      "<p class=\"gxds1\"><span>通订一舟。——</span><span class=\"gxds2\">明</span>·<span class=\"gxds2\">魏学</span>《核舟记》</p>\n",
      "\n",
      "<p>(2) 又如:一罟(全部;一点不留);一是(全赁);一凭(任凭;完全凭仗);一抹(全部);一听(听任);一划(一派);一床(全部[乐器]);一力(竭力);一创(整个);一到处(到处;四处);一条提(全部;统统);一抹光(一律免除或不予追究);一到处(遍地里);一肩儿(所承担的全部责任)</p>\n",
      "\n",
      "<p>(3) 相同;一样 [same]。如:一个稿子(一模一样);一便价(一式的;一律的);一似(好像;似同);一同(相同;一样);一理(同一准则)</p>\n",
      "\n",
      "<p>(4) 齐一;联合 [joint;combined]。如:一缴过儿(一起);一搭儿(一答里。一起;一块儿);一合儿(一同;一起);一就(一并;一起);一心(同心;齐心);一堆(一起;一块);一淘(一道;一路);一派(一齐);一体(一起;一块)</p>\n",
      "\n",
      "<p>(5) 统一 [unified;unitary]</p>\n",
      "\n",
      "<p class=\"gxds1\"><span>以一中外之心,以色觊觎之望。——《子谦全传》</span></p>\n",
      "\n",
      "<p class=\"gxds1\"><span>六王毕,四海一。——</span><span class=\"gxds2\">杜牧</span>《阿房宫赋》</p>\n",
      "\n",
      "<p>(6) 又如:一正(统一法度政令);一匡(使得到匡正);一法(统一的法令);一是(犹言统一的标准);一量(统一度量);一统天下(统一全国)</p>\n",
      "\n",
      "<p>(7) 专一 [single-minded;concentrated]</p>\n",
      "\n",
      "<p class=\"gxds1\"><span>用心一世。——《<a  title=\"直达该书\" target=\"_blank\" href=\"/a/383k/\">荀子</a>•劝学》</span></p>\n",
      "\n",
      "<p>(8) 又如:一德无暇(一心一意,没有一点虚情假意);一心一计(一心一意)</p>\n",
      "\n",
      "<p>(9) 纯一不杂 [pure]。如:一青(犹纯青);一抹黑(形容一团漆黑);一纯(心地纯一)</p>\n",
      "\n",
      "<p>(10) 独 [single;alone]。如:一目(独眼);一取(独取);一眼(一只眼睛。特指独存一眼);一尊(独尊)</p>\n",
      "\n",
      "<p>◎ <strong>一</strong> <span class=\"dicpy\">yī</span></p>\n",
      "\n",
      "<p>〈副〉</p>\n",
      "\n",
      "<p>(1) 都,一概 [all]</p>\n",
      "\n",
      "<p class=\"gxds1\"><span>一匡天下。——《<a  title=\"直达该书\" target=\"_blank\" href=\"/a/1y/\">史记</a>•货殖列传》</span></p>\n",
      "\n",
      "<p>(2) 又如:一划(一律);一回(一概);一弄(一切;全体);一抹光(全都包括在内);一往(一概;一律);一括(犹言总括);一是(一概)</p>\n",
      "\n",
      "<p>(3) 很;甚 [very]。如:一无性天(非常虚伪);一力价(极力地);一撮儿(极其;百般)</p>\n",
      "\n",
      "<p>(4) 始终 [straight;always;all along]。如:一象(一像。一向;从来);一起(一向;向来);一行(一向;一直);一了(一直;从来);一往(犹一向)</p>\n",
      "\n",
      "<p>(5) 一经 [once;in case]</p>\n",
      "\n",
      "<p class=\"gxds1\"><span>诚一开口。——《<a  title=\"直达该书\" target=\"_blank\" href=\"/a/1y/\">史记</a>•魏公子列传》</span></p>\n",
      "\n",
      "<p class=\"gxds1\"><span>俗之一改。——《<a  title=\"直达该书\" target=\"_blank\" href=\"/a/1y/\">史记</a>•屈原贾生列传》</span></p>\n",
      "\n",
      "<p class=\"gxds1\"><span>黄鹤一去不复返,——</span><span class=\"gxds2\">唐</span>·<span class=\"gxds2\">崔颢</span>《黄鹤楼》</p>\n",
      "\n",
      "<p><span class=\"gxds2\">禄山</span>一出。——<span class=\"gxds2\">宋</span>·<span class=\"gxds2\">苏轼</span>《教战守》</p>\n",
      "\n",
      "<p class=\"gxds1\"><span>一出门。——《<a  title=\"直达该书\" target=\"_blank\" href=\"/a/1098a/\">聊斋志异</a>•促织》</span></p>\n",
      "\n",
      "<p>(6) 又如:一膺新命(一旦接受朝廷的任命);一觉(一旦);一头(一旦);一投(方言。一等到;一旦)</p>\n",
      "\n",
      "<p>(7) 犹一一 [one by one;one affer another]。如:一略数(谓一一略举);一听(一一倾听)</p>\n",
      "\n",
      "<p>◎ <strong>一</strong> <span class=\"dicpy\">yī</span></p>\n",
      "\n",
      "<p>〈名〉</p>\n",
      "\n",
      "<p>初次,第一次;开始 [first;begin]。如:一箭上垛(比喻旗开得胜,首次就达到目的);一生人(初次卖做奴婢的女子);一头里(原来;起先);一成(初次制成的);一回生(初见陌生);一见如旧(一见如故。初次相见意气相投,有如故交);一初(开始;起初);一征(初次征战);一听(初听)</p>\n",
      "\n",
      "　　　　　　　　　　　　　　　　　　　　　　　　　　　　　　　　　　　　　　　　　　　　　　　　　　　　　　　　　　　　　　　　　　　　　　　　　　　　　　　　　　　　　　　　　　　　　　　　　　　　　　　　　　　　　　　　　　　　　　　　　　　　　　　　　　　　　　　　　　　　　　　　　　　　　　　　　　　　　　　　　　　　　　　　　　　　　　　　　　　　　　　　　　　　　　　　　　　　　　　　　　　　　　　　　　　　　　　　　　　　　　　　　　　　　　　　　　　　　　　　　　　　　　　　　　　　　　　　　　　　　　　　　　　　　　　　　　　　　　　　　</div>\n",
      "\n",
      "<h2 class=\"tit03\">汉字：「{{zi}}」&nbsp;在工具书中的解释</h2>\n",
      "\n",
      "<p>\n",
      "\n",
      "<table id=\"shupage\">\n",
      "\n",
      "<tr>\n",
      "\n",
      "\t<td width=150>工具书</td>\n",
      "\n",
      "\t<td width=150>页码</td>\n",
      "\n",
      "\t<td width=150>备注</td>\n",
      "\n",
      "\t<td width=150>查看</td>\n",
      "\n",
      "</tr>\n",
      "\n",
      "<tr>\n",
      "\n",
      "\t<td>汉语大字典</td>\n",
      "\n",
      "\t<td> <a href=\"/kangxi/pic.php?f=dzd&p=1\" target=\"_blank\">第1页</a></td>\n",
      "\n",
      "\t<td>  第1字 </td>\n",
      "\n",
      "\t<td><a href=\"/zidian/_4E00.html\" target=\"_blank\">文字版</a>　<a href=\"/kangxi/pic.php?f=dzd&p=1\" target=\"_blank\">影印版</a></td>\n",
      "\n",
      "</tr>\n",
      "\n",
      "\n",
      "\n",
      "<tr>\n",
      "\n",
      "\t<td>中华字海</td>\n",
      "\n",
      "\t<td><a href=\"/kangxi/pic.php?f=zihai&p=1\" target=\"_blank\">第1页</a>　</td>\n",
      "\n",
      "\t<td>第1字</td>\n",
      "\n",
      "\t<td>\n",
      "\n",
      "\t<a href=\"/kangxi/pic.php?f=zihai&p=1\" target=\"_blank\">影印版</a>\t</td>\n",
      "\n",
      "</tr>\n",
      "\n",
      "\n",
      "\n",
      "<tr>\n",
      "\n",
      "\t<td>汉语大词典</td>\n",
      "\n",
      "\t<td><a href=\"/kangxi/pic.php?f=dcd&p=1\" target=\"_blank\">第1页</a></td>\n",
      "\n",
      "\t<td></td>\n",
      "\n",
      "\t<td><a href=\"/hydcd/129i.html\" target=\"_blank\">文字版</a>　<a href=\"/kangxi/pic.php?f=dcd&p=1\" target=\"_blank\">影印版</a></td>\n",
      "\n",
      "</tr>\n",
      "\n",
      "<tr>\n",
      "\n",
      "\t<td>现代汉语词典</td>\n",
      "\n",
      "\t<td><a href=\"/kangxi/pic.php?f=xdhycd&p=1521\" target=\"_blank\">第1521页</a></td>\n",
      "\n",
      "\t<td></td>\n",
      "\n",
      "\t<td><a href=\"/kangxi/pic.php?f=xdhycd&p=1521\" target=\"_blank\">影印版</a></td>\n",
      "\n",
      "</tr>\n",
      "\n",
      "<tr>\n",
      "\n",
      "\t<td>汉语辞海</td>\n",
      "\n",
      "\t<td colspan=3><a href=\"/hydcd/cihai_4838.html\" target=\"_blank\">文字版1</a>　　　</td>\t\n",
      "\n",
      "</tr>\n",
      "\n",
      "<tr>\n",
      "\n",
      "\t<td>康熙字典</td>\n",
      "\n",
      "\t<td><a href=\"/kangxi/41264b.html\" target=\"_blank\">文字</a>　<a href=\"/kangxi/pic.php?f=kx&p=75\" target=\"_blank\">第75页</a></td>\n",
      "\n",
      "\t<td>第001字</td>\n",
      "\n",
      "\t<td><a href=\"/kangxi/41264b.html\" target=\"_blank\">文字版</a>　<a href=\"/kangxi/pic.php?f=kx&p=75\" target=\"_blank\">影印版</a></td>\n",
      "\n",
      "</tr>\n",
      "\n",
      "<tr>\n",
      "\n",
      "\t<td>说文解字注</td>\n",
      "\n",
      "\t<td><a href=\"/ShuoWenJieZi/201a.html\" target=\"_blank\">文字</a>　<a href=\"/kangxi/pic.php?f=sw&p=1981\" target=\"_blank\">第1981页</a></td>\n",
      "\n",
      "\t<td></td>\n",
      "\n",
      "\t<td><a href=\"/ShuoWenJieZi/201a.html\" target=\"_blank\">文字版</a>　<a href=\"/kangxi/pic.php?f=sw&p=1981\" target=\"_blank\">影印版</a></td>\n",
      "\n",
      "</tr>\n",
      "\n",
      "<tr>\n",
      "\n",
      "\t<td>字　源</td>\n",
      "\n",
      "\t<td><a href=\"/kangxi/pic.php?f=ziyuanlxq&p=1\" target=\"_blank\">第1页</a>　</td>\n",
      "\n",
      "\t<td></td>\n",
      "\n",
      "\t<td>\n",
      "\n",
      "\t<a href=\"/kangxi/pic.php?f=ziyuanlxq&p=1\" target=\"_blank\">影印版</a>\t</td>\n",
      "\n",
      "</tr>\n",
      "\n",
      "\n",
      "\n",
      "<tr>\n",
      "\n",
      "\t<td>重編國語辭典</td>\n",
      "\n",
      "\t<td><a href=\"/hydcd/tw_217m.html\" target=\"_blank\">文字版</a></td>\n",
      "\n",
      "\t<td></td>\n",
      "\n",
      "\t<td><a href=\"/hydcd/tw_217m.html\" target=\"_blank\">文字版</a></td>\n",
      "\n",
      "</tr>\n",
      "\n",
      "<tr>\n",
      "\n",
      "\t<td>汉字字源</td>\n",
      "\n",
      "\t<td colspan=3><a href=\"/zidian/ziyuan_3156.html\" target=\"_blank\">字源解析1</a>　　　<a href=\"/kangxi/pic.php?f=ziyuan2&p=167\" target=\"_blank\">字源解析&nbsp;2</a>　　　</td>\n",
      "\n",
      "</tr>\n",
      "\n",
      "<tr>\n",
      "\n",
      "\t<td>古汉语字典</td>\n",
      "\n",
      "\t<td><a href=\"/kangxi/pic.php?f=ghyzd&p=1\" target=\"_blank\">第1页</a></td>\n",
      "\n",
      "\t<td></td>\n",
      "\n",
      "\t<td><a href=\"/kangxi/pic.php?f=ghyzd&p=1\" target=\"_blank\">影印版</a></td>\n",
      "\n",
      "</tr>\n",
      "\n",
      "\n",
      "\n",
      "<tr>\n",
      "\n",
      "\t<td>古文字诂林</td>\n",
      "\n",
      "\t<td><a href=\"/kangxi/pic.php?f=gwzgl&p=1\" target=\"_blank\">第1页</a></td>\n",
      "\n",
      "\t<td>1 冊，第 1页</td>\n",
      "\n",
      "\t<td><a href=\"/kangxi/pic.php?f=gwzgl&p=1\" target=\"_blank\">影印版</a></td>\n",
      "\n",
      "</tr>\n",
      "\n",
      "<tr>\n",
      "\n",
      "\t<td>说文解字诂林</td>\n",
      "\n",
      "\t<td><a href=\"/kangxi/pic.php?f=swjzgl&p=988\" target=\"_blank\">第988页</a></td>\n",
      "\n",
      "\t<td><a href=\"/kangxi/pic.php?f=swjzgl&p=16135\" target=\"_blank\">补遗：16135</a><br><a href=\"/kangxi/pic.php?f=swjzgl&p=14867\" target=\"_blank\">补编：14867</a></td>\n",
      "\n",
      "\t<td><a href=\"/kangxi/pic.php?f=swjzgl&p=988\" target=\"_blank\">影印版</a></td>\n",
      "\n",
      "</tr>\n",
      "\n",
      "\n",
      "\n",
      "<tr>\n",
      "\n",
      "\t<td>经籍籑诂</td>\n",
      "\n",
      "\t<td colspan=3><a href=\"/kangxi/pic.php?f=jjzg&p=8623\" target=\"_blank\">第8623页　入聲,四質（韻目第8594頁）</a><br><a href=\"/kangxi/pic.php?f=jjzg&p=8720\" target=\"_blank\">第8720页　入聲,四質,補遺（韻目第8704頁）</a><br></td>\n",
      "\n",
      "</tr>\n",
      "\n",
      "<tr>\n",
      "\n",
      "\t<td>故训汇纂</td>\n",
      "\n",
      "\t<td><a href=\"/kangxi/pic.php?f=gxhz&p=1\" target=\"_blank\">第1页</a></td>\n",
      "\n",
      "\t<td>第1字</td>\n",
      "\n",
      "\t<td><a href=\"/kangxi/pic.php?f=gxhz&p=1\" target=\"_blank\">影印版</a></td>\n",
      "\n",
      "</tr>\n",
      "\n",
      "<tr>\n",
      "\n",
      "\t<td>古文字通假字典</td>\n",
      "\n",
      "\t<td><a href=\"/kangxi/pic.php?f=tjzzd&p=592\" target=\"_blank\">第592页</a>　</td>\n",
      "\n",
      "\t<td></td>\n",
      "\n",
      "\t<td>\n",
      "\n",
      "\t<a href=\"/kangxi/pic.php?f=tjzzd&p=592\" target=\"_blank\">影印版</a>\t</td>\n",
      "\n",
      "</tr>\n",
      "\n",
      "\n",
      "\n",
      "<tr>\n",
      "\n",
      "\t<td>中文大辞典</td>\n",
      "\n",
      "\t<td><a href=\"/kangxi/pic.php?f=zwdcd&p=1\" target=\"_blank\">第1页</a></td>\n",
      "\n",
      "\t<td></td>\n",
      "\n",
      "\t<td><a href=\"/kangxi/pic.php?f=zwdcd&p=1\" target=\"_blank\">影印版</a></td>\n",
      "\n",
      "</tr>\n",
      "\n",
      "\n",
      "\n",
      "<tr>\n",
      "\n",
      "\t<td>宋本廣韻</td>\n",
      "\n",
      "\t<td>\n",
      "\n",
      "\t<a href=\"/zidian/sbgy_2848v.html\" target=\"_blank\">文字</a>　<a href=\"/kangxi/pic.php?f=sbgy&p=468\" target=\"_blank\">第468页</a>\t</td>\n",
      "\n",
      "\t<td>第40字</td>\n",
      "\n",
      "\t<td>\n",
      "\n",
      "<a href=\"/zidian/sbgy_2848v.html\" target=\"_blank\">文字版</a>　<a href=\"/kangxi/pic.php?f=sbgy&p=468\" target=\"_blank\">影印版</a>\t</td>\n",
      "\n",
      "</tr>\n",
      "\n",
      "\n",
      "\n",
      "<tr>\n",
      "\n",
      "\t<td>集　韵</td>\n",
      "\n",
      "\t<td colspan=3><a href=\"/kangxi/pic.php?f=jiyun&p=668.11.4\" target=\"_blank\">第668.11.4页</a>　　</td>\n",
      "\n",
      "</tr>\n",
      "\n",
      "\n",
      "\n",
      "<tr>\n",
      "\n",
      "\t<td>中上古音韵</td>\n",
      "\n",
      "\t<td><a href=\"/zidian/yy_11i.html\" target=\"_blank\">中上古音</a>　</td>\n",
      "\n",
      "\t<td></td>\n",
      "\n",
      "\t<td>\n",
      "\n",
      "\t<a href=\"/zidian/yy_11i.html\" target=\"_blank\">中上古音</a>\t</td>\n",
      "\n",
      "</tr>\n",
      "\n",
      "\n",
      "\n",
      "<tr>\n",
      "\n",
      "\t<td>异体字字典</td>\n",
      "\n",
      "\t<td>\n",
      "\n",
      "\t\t<a href=\"http://yitizi.guoxuedashi.com/yitia/fra/fra00001.htm\" target=\"_blank\">a00001</a></td>\n",
      "\n",
      "\t<td></td>\n",
      "\n",
      "\t<td><a href=\"http://yitizi.guoxuedashi.com/yitia/fra/fra00001.htm\" target=\"_blank\">文字版</a></td>\n",
      "\n",
      "</tr>\n",
      "\n",
      "\n",
      "\n",
      "<tr>\n",
      "\n",
      "\t<td>书法字典</td>\n",
      "\n",
      "\t<td><a href=\"http://shufa.guoxuedashi.com/{{ucode}}/\" target=\"_blank\">书法字典</a></td>\n",
      "\n",
      "\t<td></td>\n",
      "\n",
      "\t<td><a href=\"http://shufa.guoxuedashi.com/{{ucode}}/\" target=\"_blank\">书法字典</a></td>\n",
      "\n",
      "</tr>\n",
      "\n",
      "\n",
      "\n",
      "<tr>\n",
      "\n",
      "\t<td>书法大字典</td>\n",
      "\n",
      "\t<td colspan=3><a href=\"http://shufa.guoxuedashi.com/pic.php?f=sfdzd&p=1\" target=\"_blank\">第1页</a>　　草书大字典：<a href=\"http://shufa.guoxuedashi.com/pic.php?f=csdzd&p=1\" target=\"_blank\">第1页</a>　　隶书大字典：<a href=\"http://shufa.guoxuedashi.com/pic.php?f=lsdzd&p=1\" target=\"_blank\">第1页</a>　　</td>\n",
      "\n",
      "\n",
      "\n",
      "</tr>\n",
      "\n",
      "<tr>\n",
      "\n",
      "\t<td>订正六书通</td>\n",
      "\n",
      "\t<td><a href=\"/kangxi/pic.php?f=dzlst&p=336\" target=\"_blank\">第336页</a>　</td>\n",
      "\n",
      "\t<td></td>\n",
      "\n",
      "\t<td>\n",
      "\n",
      "\t<a href=\"/kangxi/pic.php?f=dzlst&p=336\" target=\"_blank\">影印版</a>\t</td>\n",
      "\n",
      "</tr>\n",
      "\n",
      "<tr>\n",
      "\n",
      "\t<td>字形演变</td>\n",
      "\n",
      "\t<td><a href=\"/zixing/1.html\" target=\"_blank\">字形演变</a>　<a href=\"/zixing/\" target=\"_blank\">转换器</a></td>\n",
      "\n",
      "\t<td></td>\n",
      "\n",
      "\t<td><a href=\"/zixing/1.html\" target=\"_blank\">字形演变</a>　<a href=\"/zixing/\" target=\"_blank\">转换器</a></td>\n",
      "\n",
      "</tr>\n",
      "\n",
      "<tr>\n",
      "\n",
      "\t<td>古文字类编</td>\n",
      "\n",
      "\t<td><a href=\"/kangxi/pic.php?f=gwzlb&p=1\" target=\"_blank\">第1页</a>　</td>\n",
      "\n",
      "\t<td></td>\n",
      "\n",
      "\t<td>\n",
      "\n",
      "\t<a href=\"/kangxi/pic.php?f=gwzlb&p=1\" target=\"_blank\">影印版</a>\t</td>\n",
      "\n",
      "</tr>\n",
      "\n",
      "<tr>\n",
      "\n",
      "\t<td>甲骨文字典</td>\n",
      "\n",
      "\t<td colspan=3><a href=\"/kangxi/pic.php?f=jgw&p=1\" target=\"_blank\">第1页</a>　<a href=\"/kangxi/pic.php?f=jgw&p=2\" target=\"_blank\">第2页</a>　</td>\n",
      "\n",
      "</tr>\n",
      "\n",
      "<tr>\n",
      "\n",
      "\t<td>新甲骨文编</td>\n",
      "\n",
      "\t<td><a href=\"/kangxi/pic.php?f=xinjgwb&p=1\" target=\"_blank\">第1页</a>　</td>\n",
      "\n",
      "\t<td></td>\n",
      "\n",
      "\t<td>\n",
      "\n",
      "\t<a href=\"/kangxi/pic.php?f=xinjgwb&p=1\" target=\"_blank\">影印版</a>\t</td>\n",
      "\n",
      "</tr>\n",
      "\n",
      "<tr>\n",
      "\n",
      "\t<td>金文编字典</td>\n",
      "\n",
      "\t<td colspan=3>\n",
      "\n",
      "\t<a href=\"/kangxi/pic.php?f=jwb&p=%E4%B8%80%E5%85%83\" target=\"_blank\">一元</a>　　续编：\n",
      "\n",
      "\t<a href=\"/kangxi/pic.php?f=jwxb&p=%E4%B8%80%E5%85%83\" target=\"_blank\">一元</a>　\t</td>\n",
      "\n",
      "</tr>\n",
      "\n",
      "<tr>\n",
      "\n",
      "\t<td>甲金篆隶大字典</td>\n",
      "\n",
      "\t<td><a href=\"/kangxi/pic.php?f=jjzldzd&p=1\" target=\"_blank\">第1页</a>　</td>\n",
      "\n",
      "\t<td></td>\n",
      "\n",
      "\t<td>\n",
      "\n",
      "\t<a href=\"/kangxi/pic.php?f=jjzldzd&p=1\" target=\"_blank\">影印版</a>\t</td>\n",
      "\n",
      "</tr>\n",
      "\n",
      "</table>\n",
      "\n",
      "</p>\n",
      "\n",
      "</div>\n",
      "\n",
      "\n",
      "\n",
      "  </div>\n",
      "\n",
      "\n",
      "\n",
      "\n",
      "\n",
      "\n",
      "\n",
      "  </body>\n",
      "\n",
      "</html>\n",
      "\n",
      "\n"
     ]
    }
   ],
   "source": [
    "with open(p+\"/\"+r[0],\"r\",encoding=\"utf8\") as f:\n",
    "    print(f.read())"
   ],
   "metadata": {
    "collapsed": false
   }
  }
 ],
 "metadata": {
  "kernelspec": {
   "display_name": "Python 3",
   "language": "python",
   "name": "python3"
  },
  "language_info": {
   "codemirror_mode": {
    "name": "ipython",
    "version": 2
   },
   "file_extension": ".py",
   "mimetype": "text/x-python",
   "name": "python",
   "nbconvert_exporter": "python",
   "pygments_lexer": "ipython2",
   "version": "2.7.6"
  }
 },
 "nbformat": 4,
 "nbformat_minor": 0
}
